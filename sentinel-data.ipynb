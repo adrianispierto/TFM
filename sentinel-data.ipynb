{
 "cells": [
  {
   "cell_type": "markdown",
   "id": "cafa3da0-684d-4720-87e3-d8888e4f5b8c",
   "metadata": {
    "tags": []
   },
   "source": [
    "# Obtención de las imágenes provenientes de Sentinel-2"
   ]
  },
  {
   "cell_type": "markdown",
   "id": "9b9a1aff-4bc3-48bc-bec2-ee838cac2bac",
   "metadata": {
    "tags": []
   },
   "source": [
    "## Imports"
   ]
  },
  {
   "cell_type": "code",
   "execution_count": 2,
   "id": "794f3c2d-ac8e-40b6-b1dd-e671826dc503",
   "metadata": {},
   "outputs": [],
   "source": [
    "%load_ext lab_black\n",
    "%load_ext autoreload\n",
    "%autoreload 2"
   ]
  },
  {
   "cell_type": "code",
   "execution_count": 3,
   "id": "1d2405df-b991-4797-8662-bd6be4b2448b",
   "metadata": {},
   "outputs": [],
   "source": [
    "import cv2\n",
    "from datetime import timedelta\n",
    "import matplotlib.pyplot as plt\n",
    "import numpy as np\n",
    "import odc.stac\n",
    "import pandas as pd\n",
    "from pathlib import Path\n",
    "from tqdm import tqdm\n",
    "\n",
    "import geopandas as gpd\n",
    "from shapely.geometry import Point\n",
    "\n",
    "import planetary_computer as pc\n",
    "from pystac_client import Client\n",
    "import geopy.distance as distance\n",
    "import rioxarray\n",
    "from IPython.display import Image\n",
    "from PIL import Image as PILImage\n",
    "\n",
    "import os\n",
    "import json\n",
    "import pickle\n",
    "\n",
    "%matplotlib inline"
   ]
  },
  {
   "cell_type": "markdown",
   "id": "448f66ac-05a9-423c-9dfb-8d5307df06d6",
   "metadata": {
    "tags": []
   },
   "source": [
    "## Definición de parámetros"
   ]
  },
  {
   "cell_type": "code",
   "execution_count": 5,
   "id": "8e3b0be4-6cdd-48a0-b98c-786771bfe478",
   "metadata": {},
   "outputs": [],
   "source": [
    "DATA_DIR = Path.cwd().resolve() / \"data\"\n",
    "SENTINEL_DATA_DIR = DATA_DIR / \"sentinel\""
   ]
  },
  {
   "cell_type": "markdown",
   "id": "49e7e64a-6d50-4fa0-93b7-516bf54fb6f6",
   "metadata": {
    "tags": []
   },
   "source": [
    "## Metadata in situ"
   ]
  },
  {
   "cell_type": "code",
   "execution_count": 7,
   "id": "baee3c72-74ed-471c-8337-d71ba0fb7810",
   "metadata": {},
   "outputs": [],
   "source": [
    "metadata = pd.read_csv(DATA_DIR / \"metadata.csv\")"
   ]
  },
  {
   "cell_type": "code",
   "execution_count": 8,
   "id": "68c0a070-c852-427d-9d5c-ea965a2912e0",
   "metadata": {},
   "outputs": [],
   "source": [
    "# convert date to pd.datetime\n",
    "metadata.date = pd.to_datetime(metadata.date)"
   ]
  },
  {
   "cell_type": "code",
   "execution_count": 9,
   "id": "71be3631-7c1a-4308-8a03-66d67e219831",
   "metadata": {},
   "outputs": [],
   "source": [
    "# what seasons are the data points from?\n",
    "metadata[\"season\"] = (\n",
    "    metadata.date.dt.month.replace([12, 1, 2], \"winter\")\n",
    "    .replace([3, 4, 5], \"spring\")\n",
    "    .replace([6, 7, 8], \"summer\")\n",
    "    .replace([9, 10, 11], \"fall\")\n",
    ")"
   ]
  },
  {
   "cell_type": "markdown",
   "id": "0030684f-5363-4963-a806-30cc113fed77",
   "metadata": {
    "tags": []
   },
   "source": [
    "## Funciones"
   ]
  },
  {
   "cell_type": "code",
   "execution_count": 10,
   "id": "87474dbc-e397-4ff6-b780-028a0b121ae2",
   "metadata": {},
   "outputs": [],
   "source": [
    "# get our bounding box to search latitude and longitude coordinates\n",
    "def get_bounding_box(latitude, longitude, meter_buffer=50000):\n",
    "    \"\"\"\n",
    "    Given a latitude, longitude, and buffer in meters, returns a bounding\n",
    "    box around the point with the buffer on the left, right, top, and bottom.\n",
    "\n",
    "    Returns a list of [minx, miny, maxx, maxy]\n",
    "    \"\"\"\n",
    "    distance_search = distance.distance(meters=meter_buffer)\n",
    "\n",
    "    # calculate the lat/long bounds based on ground distance\n",
    "    # bearings are cardinal directions to move (south, west, north, and east)\n",
    "    min_lat = distance_search.destination((latitude, longitude), bearing=180)[0]\n",
    "    min_long = distance_search.destination((latitude, longitude), bearing=270)[1]\n",
    "    max_lat = distance_search.destination((latitude, longitude), bearing=0)[0]\n",
    "    max_long = distance_search.destination((latitude, longitude), bearing=90)[1]\n",
    "\n",
    "    return [min_long, min_lat, max_long, max_lat]"
   ]
  },
  {
   "cell_type": "code",
   "execution_count": 11,
   "id": "4881cb75-1f07-44a6-8a2e-cd05a4831b50",
   "metadata": {},
   "outputs": [],
   "source": [
    "# get our date range to search, and format correctly for query\n",
    "def get_date_range(date, time_buffer_days=15):\n",
    "    \"\"\"Get a date range to search for in the planetary computer based\n",
    "    on a sample's date. The time range will include the sample date\n",
    "    and time_buffer_days days prior\n",
    "\n",
    "    Returns a string\"\"\"\n",
    "    datetime_format = \"%Y-%m-%dT\"\n",
    "    range_start = pd.to_datetime(date) - timedelta(days=time_buffer_days)\n",
    "    date_range = f\"{range_start.strftime(datetime_format)}00:00:00Z/{pd.to_datetime(date).strftime(datetime_format)}23:59:59Z\"\n",
    "\n",
    "    return date_range"
   ]
  },
  {
   "cell_type": "code",
   "execution_count": 12,
   "id": "a26ba16f-6b34-43f4-b96b-863d7a48d75e",
   "metadata": {},
   "outputs": [],
   "source": [
    "def crop_sentinel_image(item, bounding_box):\n",
    "    \"\"\"\n",
    "    Given a STAC item from Sentinel-2 and a bounding box tuple in the format\n",
    "    (minx, miny, maxx, maxy), return a cropped portion of the item's visual\n",
    "    imagery in the bounding box.\n",
    "\n",
    "    Returns the image as a numpy array with dimensions (color band, height, width)\n",
    "    \"\"\"\n",
    "    (minx, miny, maxx, maxy) = bounding_box\n",
    "\n",
    "    # true color image. 10 m resolution\n",
    "    visual_img = (\n",
    "        rioxarray.open_rasterio(pc.sign(item.assets[\"visual\"].href))\n",
    "        .rio.clip_box(\n",
    "            minx=minx,\n",
    "            miny=miny,\n",
    "            maxx=maxx,\n",
    "            maxy=maxy,\n",
    "            crs=\"EPSG:4326\",\n",
    "        )\n",
    "        .to_numpy()\n",
    "    )\n",
    "\n",
    "    # scene classification image. 20 m resolution\n",
    "    SCL_img = (\n",
    "        rioxarray.open_rasterio(pc.sign(item.assets[\"SCL\"].href))\n",
    "        .rio.clip_box(\n",
    "            minx=minx,\n",
    "            miny=miny,\n",
    "            maxx=maxx,\n",
    "            maxy=maxy,\n",
    "            crs=\"EPSG:4326\",\n",
    "        )\n",
    "        .to_numpy()\n",
    "    )\n",
    "    # 560 nm band. 10 m resolution\n",
    "    b03_img = (\n",
    "        rioxarray.open_rasterio(pc.sign(item.assets[\"B03\"].href))\n",
    "        .rio.clip_box(\n",
    "            minx=minx,\n",
    "            miny=miny,\n",
    "            maxx=maxx,\n",
    "            maxy=maxy,\n",
    "            crs=\"EPSG:4326\",\n",
    "        )\n",
    "        .to_numpy()\n",
    "    )\n",
    "    # 665 nm band. 10 m resolution\n",
    "    b04_img = (\n",
    "        rioxarray.open_rasterio(pc.sign(item.assets[\"B04\"].href))\n",
    "        .rio.clip_box(\n",
    "            minx=minx,\n",
    "            miny=miny,\n",
    "            maxx=maxx,\n",
    "            maxy=maxy,\n",
    "            crs=\"EPSG:4326\",\n",
    "        )\n",
    "        .to_numpy()\n",
    "    )\n",
    "    # 704 nm band. 20 m resolution\n",
    "    b05_img = (\n",
    "        rioxarray.open_rasterio(pc.sign(item.assets[\"B05\"].href))\n",
    "        .rio.clip_box(\n",
    "            minx=minx,\n",
    "            miny=miny,\n",
    "            maxx=maxx,\n",
    "            maxy=maxy,\n",
    "            crs=\"EPSG:4326\",\n",
    "        )\n",
    "        .to_numpy()\n",
    "    )\n",
    "\n",
    "\n",
    "    return [visual_img, b03_img, b04_img, b05_img, SCL_img]"
   ]
  },
  {
   "cell_type": "code",
   "execution_count": 14,
   "id": "d8a7de67-2c74-4a34-af36-b8a1f84be279",
   "metadata": {},
   "outputs": [],
   "source": [
    "def select_best_item_list(items, date, latitude, longitude):\n",
    "    \"\"\"\n",
    "    Select the best satellite item given a sample's date, latitude, and longitude.\n",
    "    If any Sentinel-2 imagery is available, returns the closest sentinel-2 image by\n",
    "    time. Otherwise, returns the closest Landsat imagery.\n",
    "\n",
    "    Returns a tuple of (STAC item, item platform name, item date)\n",
    "    \"\"\"\n",
    "    # get item details\n",
    "    item_details = pd.DataFrame(\n",
    "        [\n",
    "            {\n",
    "                \"datetime\": item.datetime.strftime(\"%Y-%m-%d\"),\n",
    "                \"platform\": item.properties[\"platform\"],\n",
    "                \"min_long\": item.bbox[0],\n",
    "                \"max_long\": item.bbox[2],\n",
    "                \"min_lat\": item.bbox[1],\n",
    "                \"max_lat\": item.bbox[3],\n",
    "                \"item_obj\": item,\n",
    "                \"cloud_cover\": item.properties[\"eo:cloud_cover\"],\n",
    "            }\n",
    "            for item in items\n",
    "        ]\n",
    "    )\n",
    "\n",
    "    # filter to items that contain the point location, or return None if none contain the point\n",
    "    item_details[\"contains_sample_point\"] = (\n",
    "        (item_details.min_lat < latitude)\n",
    "        & (item_details.max_lat > latitude)\n",
    "        & (item_details.min_long < longitude)\n",
    "        & (item_details.max_long > longitude)\n",
    "    )\n",
    "    item_details = item_details[item_details[\"contains_sample_point\"] == True]\n",
    "    if len(item_details) == 0:\n",
    "        return (np.nan, np.nan, np.nan)\n",
    "\n",
    "    # add time difference between each item and the sample\n",
    "    item_details[\"time_diff\"] = pd.to_datetime(date) - pd.to_datetime(\n",
    "        item_details[\"datetime\"]\n",
    "    )\n",
    "\n",
    "    # return the closest imagery by time\n",
    "    return item_details.sort_values(by=\"time_diff\", ascending=True)"
   ]
  },
  {
   "cell_type": "code",
   "execution_count": 18,
   "id": "1cc1906e-45d1-40f3-afc9-52ad10d170c5",
   "metadata": {},
   "outputs": [],
   "source": [
    "def check_clouds(ordered_items, bounding_box):\n",
    "    \"\"\" \"\"\"\n",
    "    (minx, miny, maxx, maxy) = bounding_box\n",
    "    best_item = None\n",
    "\n",
    "    for i in range(len(ordered_items)):\n",
    "        cloud_image_array = (\n",
    "            rioxarray.open_rasterio(\n",
    "                pc.sign(ordered_items.iloc[i].item_obj.assets[\"SCL\"].href)\n",
    "            )\n",
    "            .rio.clip_box(\n",
    "                minx=minx,\n",
    "                miny=miny,\n",
    "                maxx=maxx,\n",
    "                maxy=maxy,\n",
    "                crs=\"EPSG:4326\",\n",
    "            )\n",
    "            .to_numpy()\n",
    "        )\n",
    "        # 0 - No data\n",
    "        # 1 - Saturated / Defective\n",
    "        # 2 - Dark Area Pixels\n",
    "        # 3 - Cloud Shadows\n",
    "        # 4 - Vegetation\n",
    "        # 5 - Bare Soils\n",
    "        # 6 - Water\n",
    "        # 7 - Clouds low probability / Unclassified\n",
    "        # 8 - Clouds medium probability\n",
    "        # 9 - Clouds high probability\n",
    "        # 10 - Cirrus\n",
    "        # 11 - Snow / Ice\n",
    "\n",
    "        if np.size(\n",
    "            cloud_image_array[\n",
    "                (cloud_image_array != 0)\n",
    "                & (cloud_image_array != 1)\n",
    "                & (cloud_image_array != 2)\n",
    "                & (cloud_image_array != 3)\n",
    "                & (cloud_image_array != 8)\n",
    "                & (cloud_image_array != 9)\n",
    "                & (cloud_image_array != 10)\n",
    "            ]\n",
    "        ) >= 0.25 * np.size(cloud_image_array):\n",
    "            best_item = ordered_items.iloc[i]\n",
    "            break\n",
    "\n",
    "    return best_item"
   ]
  },
  {
   "cell_type": "markdown",
   "id": "7af67809-0ba4-48db-8915-edf16dd91380",
   "metadata": {
    "tags": []
   },
   "source": [
    "## Extracción de las imágenes"
   ]
  },
  {
   "cell_type": "code",
   "execution_count": 16,
   "id": "419e1350-18b5-4059-b6fc-924673115b6b",
   "metadata": {},
   "outputs": [],
   "source": [
    "# Establish a connection to the STAC API\n",
    "catalog = Client.open(\n",
    "    \"https://planetarycomputer.microsoft.com/api/stac/v1\", modifier=pc.sign_inplace\n",
    ")"
   ]
  },
  {
   "cell_type": "code",
   "execution_count": 17,
   "id": "34784456-6d38-44ed-b5b6-4e916febe00b",
   "metadata": {},
   "outputs": [],
   "source": [
    "train_subset = metadata"
   ]
  },
  {
   "cell_type": "markdown",
   "id": "e293f1d5-2bc8-4c64-908b-ffa58c38f3e1",
   "metadata": {},
   "source": [
    "La siguiente celda conviene ejecutarla más de una vez en caso de que el pull falle por la conexión con la API"
   ]
  },
  {
   "cell_type": "code",
   "execution_count": 23,
   "id": "62a33131-9301-4a04-97f7-29451fee4a8f",
   "metadata": {
    "scrolled": true,
    "tags": []
   },
   "outputs": [
    {
     "name": "stderr",
     "output_type": "stream",
     "text": [
      "100%|██████████| 23570/23570 [8:58:50<00:00,  1.37s/it]   \n"
     ]
    }
   ],
   "source": [
    "# save outputs in dictionaries\n",
    "selected_items = {}\n",
    "not_possible = []\n",
    "errored_ids = []\n",
    "\n",
    "for row in tqdm(train_subset.itertuples(), total=len(train_subset)):\n",
    "    pass\n",
    "    # check if we've already saved the selected image array\n",
    "    image_array_pth = SENTINEL_DATA_DIR / f\"visual/{row.uid}.npy\"\n",
    "\n",
    "    try:\n",
    "        with open(image_array_pth, \"rb\") as f:\n",
    "            continue\n",
    "\n",
    "    # search and load the image array if not\n",
    "    except:\n",
    "        try:\n",
    "            ## QUERY STAC API\n",
    "            # get query ranges for location and date\n",
    "            search_bbox = get_bounding_box(\n",
    "                row.latitude, row.longitude, meter_buffer=50000\n",
    "            )\n",
    "            date_range = get_date_range(row.date, time_buffer_days=15)\n",
    "\n",
    "            # search the planetary computer\n",
    "            search = catalog.search(\n",
    "                collections=[\"sentinel-2-l2a\"],\n",
    "                bbox=search_bbox,\n",
    "                datetime=date_range,\n",
    "                query={\n",
    "                    \"platform\": {\n",
    "                        \"in\": [\n",
    "                            \"Sentinel-2A\",\n",
    "                            \"Sentinel-2B\",\n",
    "                        ]\n",
    "                    }\n",
    "                },\n",
    "            )\n",
    "            items = [item for item in search.get_all_items()]\n",
    "\n",
    "            ## GET BEST IMAGE\n",
    "            if len(items) == 0:\n",
    "                not_possible.append(row.uid)\n",
    "                pass\n",
    "            else:\n",
    "                ordered_items = select_best_item_list(\n",
    "                    items, row.date, row.latitude, row.longitude\n",
    "                )\n",
    "\n",
    "            ## CONVERT TO FEATURES\n",
    "            # get small bbox just for features\n",
    "            feature_bbox = get_bounding_box(\n",
    "                row.latitude, row.longitude, meter_buffer=200\n",
    "            )\n",
    "\n",
    "            # comprobación nubosidad\n",
    "            best_item = check_clouds(ordered_items, feature_bbox)\n",
    "            if best_item is None:\n",
    "                not_possible.append(row.uid)\n",
    "                continue\n",
    "\n",
    "            # add to dictionary tracking best items\n",
    "            selected_items[row.uid] = {\n",
    "                \"item_object\": str(best_item[\"item_obj\"]),\n",
    "                \"item_platform\": best_item[\"platform\"],\n",
    "                \"item_date\": best_item[\"datetime\"],\n",
    "                \"cloud_properties\": best_item[\"cloud_cover\"],\n",
    "                \"time_diff\": str(best_item[\"time_diff\"]),\n",
    "            }\n",
    "\n",
    "            # crop the image and mask with SCL. Get bands 3,4 and 5; and SCL\n",
    "            [\n",
    "                image_array,\n",
    "                b03_image_array,\n",
    "                b04_image_array,\n",
    "                b05_image_array,\n",
    "                scl_image_array,\n",
    "            ] = crop_sentinel_image(best_item[\"item_obj\"], feature_bbox)\n",
    "\n",
    "            # save image array so we don't have to rerun\n",
    "            with open(SENTINEL_DATA_DIR / f\"visual/{row.uid}.npy\", \"wb\") as f:\n",
    "                np.save(f, image_array)\n",
    "            with open(SENTINEL_DATA_DIR / f\"b03/{row.uid}.npy\", \"wb\") as f:\n",
    "                np.save(f, b03_image_array)\n",
    "            with open(SENTINEL_DATA_DIR / f\"b04/{row.uid}.npy\", \"wb\") as f:\n",
    "                np.save(f, b04_image_array)\n",
    "            with open(SENTINEL_DATA_DIR / f\"b05/{row.uid}.npy\", \"wb\") as f:\n",
    "                np.save(f, b05_image_array)\n",
    "            with open(SENTINEL_DATA_DIR / f\"scl/{row.uid}.npy\", \"wb\") as f:\n",
    "                np.save(f, scl_image_array)\n",
    "\n",
    "        # keep track of any that ran into errors without interrupting the process\n",
    "        except Exception as e:\n",
    "            errored_ids.append(row.uid)"
   ]
  },
  {
   "cell_type": "code",
   "execution_count": 24,
   "id": "6067ec23-0778-49be-a779-2338ef0a9b65",
   "metadata": {},
   "outputs": [],
   "source": [
    "with open(SENTINEL_DATA_DIR / \"selected_items.txt\", \"w\") as f:\n",
    "    json.dump(selected_items, f)"
   ]
  },
  {
   "cell_type": "code",
   "execution_count": 25,
   "id": "1b4f138b-f16e-4539-aade-3a004d4b4a8d",
   "metadata": {},
   "outputs": [
    {
     "name": "stdout",
     "output_type": "stream",
     "text": [
      "Could not pull satellite imagery for 6593 samples\n"
     ]
    }
   ],
   "source": [
    "print(f\"Could not pull satellite imagery for {len(errored_ids)} samples\")"
   ]
  },
  {
   "cell_type": "markdown",
   "id": "14d1457f-045c-4202-8631-290dc1a90ed6",
   "metadata": {},
   "source": [
    "Vista de imagenes extraídas"
   ]
  },
  {
   "cell_type": "code",
   "execution_count": 12,
   "id": "f5294599-c6af-4f2f-bdd6-6c24676175b0",
   "metadata": {},
   "outputs": [
    {
     "data": {
      "text/plain": [
       "<matplotlib.image.AxesImage at 0x1e5a0612a10>"
      ]
     },
     "execution_count": 12,
     "metadata": {},
     "output_type": "execute_result"
    },
    {
     "data": {
      "image/png": "[encoded data removed]",
      "text/plain": [
       "<Figure size 640x480 with 1 Axes>"
      ]
     },
     "metadata": {},
     "output_type": "display_data"
    }
   ],
   "source": [
    "with open(SENTINEL_DATA_DIR / f\"visual/ozir.npy\", \"rb\") as f:\n",
    "    image_array = np.load(f)\n",
    "plt.imshow(np.transpose(image_array, axes=[1, 2, 0]))"
   ]
  }
 ],
 "metadata": {
  "kernelspec": {
   "display_name": "Python 3 (ipykernel)",
   "language": "python",
   "name": "python3"
  },
  "language_info": {
   "codemirror_mode": {
    "name": "ipython",
    "version": 3
   },
   "file_extension": ".py",
   "mimetype": "text/x-python",
   "name": "python",
   "nbconvert_exporter": "python",
   "pygments_lexer": "ipython3",
   "version": "3.11.2"
  }
 },
 "nbformat": 4,
 "nbformat_minor": 5
}
