{
 "cells": [
  {
   "cell_type": "markdown",
   "id": "a2abf25e-8813-4d6c-97ad-277d28c73c8a",
   "metadata": {
    "tags": []
   },
   "source": [
    "# Obtención de las imágenes provenientes de Landsat-7/8 y 9"
   ]
  },
  {
   "cell_type": "markdown",
   "id": "7614e61c-cd9b-4c35-bc52-1c7b674c0f9c",
   "metadata": {
    "tags": []
   },
   "source": [
    "## Imports"
   ]
  },
  {
   "cell_type": "code",
   "execution_count": 1,
   "id": "b2dd8a84-7e7e-4be4-a542-ac40063f3b88",
   "metadata": {},
   "outputs": [],
   "source": [
    "%load_ext lab_black\n",
    "%load_ext autoreload\n",
    "%autoreload 2"
   ]
  },
  {
   "cell_type": "code",
   "execution_count": 2,
   "id": "6c129f8c-4b88-4384-8b33-01953d80a353",
   "metadata": {},
   "outputs": [],
   "source": [
    "import cv2\n",
    "from datetime import timedelta\n",
    "import matplotlib.pyplot as plt\n",
    "import numpy as np\n",
    "import odc.stac\n",
    "import pandas as pd\n",
    "from pathlib import Path\n",
    "from sklearn.metrics import mean_squared_error\n",
    "from sklearn.preprocessing import StandardScaler\n",
    "from tqdm import tqdm\n",
    "\n",
    "import geopandas as gpd\n",
    "from shapely.geometry import Point\n",
    "\n",
    "import planetary_computer as pc\n",
    "from pystac_client import Client\n",
    "import geopy.distance as distance\n",
    "import rioxarray\n",
    "from IPython.display import Image\n",
    "from PIL import Image as PILImage\n",
    "\n",
    "import os\n",
    "import json\n",
    "import pickle\n",
    "\n",
    "%matplotlib inline"
   ]
  },
  {
   "cell_type": "markdown",
   "id": "e5c07ab4-dbc9-49e7-aaf8-c666c86ec27c",
   "metadata": {
    "tags": []
   },
   "source": [
    "## Definición de parámetros"
   ]
  },
  {
   "cell_type": "code",
   "execution_count": 48,
   "id": "a3cf3069-8538-4227-b6b3-58ac2effb5ab",
   "metadata": {},
   "outputs": [],
   "source": [
    "DATA_DIR = Path.cwd().resolve() / \"data\"\n",
    "LANDSAT_DATA_DIR = DATA_DIR / \"landsat\"\n",
    "SENTINEL_DATA_DIR = DATA_DIR / \"sentinel\"\n",
    "\n",
    "CLEAR_BIT_FILTER = np.vectorize(lambda num: int(format(num,'#018b')[-7]))"
   ]
  },
  {
   "cell_type": "markdown",
   "id": "0716e282-4de8-4ebd-9b6b-8cc42fb80755",
   "metadata": {
    "tags": []
   },
   "source": [
    "## Metadata in situ"
   ]
  },
  {
   "cell_type": "code",
   "execution_count": 4,
   "id": "b2d8ceed-a9fa-4d85-8a05-aafc708b9b75",
   "metadata": {},
   "outputs": [],
   "source": [
    "metadata = pd.read_csv(DATA_DIR / \"metadata.csv\")"
   ]
  },
  {
   "cell_type": "code",
   "execution_count": 5,
   "id": "7b1fff6f-b17f-4f70-8b40-6486de25feaa",
   "metadata": {},
   "outputs": [],
   "source": [
    "# convert date to pd.datetime\n",
    "metadata.date = pd.to_datetime(metadata.date)"
   ]
  },
  {
   "cell_type": "markdown",
   "id": "63ba2a8f-6aae-49ee-aa82-d0303746b993",
   "metadata": {
    "tags": []
   },
   "source": [
    "## Funciones"
   ]
  },
  {
   "cell_type": "code",
   "execution_count": 6,
   "id": "01c96500-9092-4e89-87d5-831752d835e9",
   "metadata": {},
   "outputs": [],
   "source": [
    "# get our bounding box to search latitude and longitude coordinates\n",
    "def get_bounding_box(latitude, longitude, meter_buffer=50000):\n",
    "    \"\"\"\n",
    "    Given a latitude, longitude, and buffer in meters, returns a bounding\n",
    "    box around the point with the buffer on the left, right, top, and bottom.\n",
    "\n",
    "    Returns a list of [minx, miny, maxx, maxy]\n",
    "    \"\"\"\n",
    "    distance_search = distance.distance(meters=meter_buffer)\n",
    "\n",
    "    # calculate the lat/long bounds based on ground distance\n",
    "    # bearings are cardinal directions to move (south, west, north, and east)\n",
    "    min_lat = distance_search.destination((latitude, longitude), bearing=180)[0]\n",
    "    min_long = distance_search.destination((latitude, longitude), bearing=270)[1]\n",
    "    max_lat = distance_search.destination((latitude, longitude), bearing=0)[0]\n",
    "    max_long = distance_search.destination((latitude, longitude), bearing=90)[1]\n",
    "\n",
    "    return [min_long, min_lat, max_long, max_lat]"
   ]
  },
  {
   "cell_type": "code",
   "execution_count": 7,
   "id": "3670f124-2bc6-4b7b-869f-4bee8d6c0396",
   "metadata": {},
   "outputs": [],
   "source": [
    "# get our date range to search, and format correctly for query\n",
    "def get_date_range(date, time_buffer_days=15):\n",
    "    \"\"\"Get a date range to search for in the planetary computer based\n",
    "    on a sample's date. The time range will include the sample date\n",
    "    and time_buffer_days days prior\n",
    "\n",
    "    Returns a string\"\"\"\n",
    "    datetime_format = \"%Y-%m-%dT\"\n",
    "    range_start = pd.to_datetime(date) - timedelta(days=time_buffer_days)\n",
    "    date_range = f\"{range_start.strftime(datetime_format)}00:00:00Z/{pd.to_datetime(date).strftime(datetime_format)}23:59:59Z\"\n",
    "\n",
    "    return date_range"
   ]
  },
  {
   "cell_type": "code",
   "execution_count": 75,
   "id": "fed07b79-0d36-4db1-a587-5b22227bc874",
   "metadata": {},
   "outputs": [],
   "source": [
    "def crop_landsat_image(item, bounding_box):\n",
    "    \"\"\"\n",
    "    Given a STAC item from Landsat and a bounding box tuple in the format\n",
    "    (minx, miny, maxx, maxy), return a cropped portion of the item's visual\n",
    "    imagery in the bounding box.\n",
    "\n",
    "    Returns the image as a numpy array with dimensions (color band, height, width)\n",
    "    \"\"\"\n",
    "    (minx, miny, maxx, maxy) = bounding_box\n",
    "    bands_of_interest = [\"red\", \"green\", \"blue\", \"lwir11\", \"nir08\"]\n",
    "    image = odc.stac.stac_load(\n",
    "        [item.item_obj],\n",
    "        bands=bands_of_interest,\n",
    "        bbox=[minx, miny, maxx, maxy],\n",
    "        resolution=30,\n",
    "        crs=\"utm\",\n",
    "    ).isel(time=0)\n",
    "    image_array = (\n",
    "        image[[\"red\", \"green\", \"blue\"]].to_array().to_numpy()\n",
    "    )  # resolution 30 m\n",
    "    temp_image_array = image[[\"lwir11\"]].to_array().to_numpy()  # resolution 30 m\n",
    "    nir_image_array = image[[\"nir08\"]].to_array().to_numpy()  # resolution 30 m\n",
    "\n",
    "    # normalize to 0 - 255 values (de forma que se pueda aplicar conjuntamente con las imagenes de Sentinel-2)\n",
    "    visual_image_array = cv2.normalize(image_array, None, 0, 255, cv2.NORM_MINMAX)\n",
    "\n",
    "\n",
    "    return [visual_image_array, temp_image_array, nir_image_array]"
   ]
  },
  {
   "cell_type": "code",
   "execution_count": 76,
   "id": "a13e3254-39f8-4545-a5a7-0b1b1c1a721f",
   "metadata": {},
   "outputs": [],
   "source": [
    "def crop_landsat7_image(item, bounding_box):\n",
    "    \"\"\"\n",
    "    Given a STAC item from Landsat and a bounding box tuple in the format\n",
    "    (minx, miny, maxx, maxy), return a cropped portion of the item's visual\n",
    "    imagery in the bounding box.\n",
    "\n",
    "    Returns the image as a numpy array with dimensions (color band, height, width)\n",
    "    \"\"\"\n",
    "    (minx, miny, maxx, maxy) = bounding_box\n",
    "    bands_of_interest = [\"red\", \"green\", \"blue\", \"lwir\", \"nir08\"]\n",
    "    image = odc.stac.stac_load(\n",
    "        [item.item_obj],\n",
    "        bands=bands_of_interest,\n",
    "        bbox=[minx, miny, maxx, maxy],\n",
    "        resolution=30,\n",
    "        crs=\"utm\",\n",
    "    ).isel(time=0)\n",
    "    image_array = (\n",
    "        image[[\"red\", \"green\", \"blue\"]].to_array().to_numpy()\n",
    "    )  # resolution 30 m\n",
    "    temp_image_array = (\n",
    "        image[[\"lwir\"]].to_array().to_numpy()\n",
    "    )  # resolution 30 m. EL NOMBRE DEL ASSET CAMBIA EN LANDSAT-7\n",
    "    nir_image_array = image[[\"nir08\"]].to_array().to_numpy()  # resolution 30 m\n",
    "\n",
    "    # normalize to 0 - 255 values (de forma que se pueda aplicar conjuntamente con las imagenes de Sentinel-2)\n",
    "    visual_image_array = cv2.normalize(image_array, None, 0, 255, cv2.NORM_MINMAX)\n",
    "\n",
    "    # (band2) − (band4)/(band3)\n",
    "\n",
    "    return [visual_image_array, temp_image_array, nir_image_array]"
   ]
  },
  {
   "cell_type": "code",
   "execution_count": 77,
   "id": "b97bbc2d-90df-42a1-b00f-74242834fec8",
   "metadata": {},
   "outputs": [],
   "source": [
    "# Refactor our process from above into functions\n",
    "def select_best_item_list(items, date, latitude, longitude):\n",
    "    \"\"\"\n",
    "    Select the best satellite item given a sample's date, latitude, and longitude.\n",
    "    If any Sentinel-2 imagery is available, returns the closest sentinel-2 image by\n",
    "    time. Otherwise, returns the closest Landsat imagery.\n",
    "\n",
    "    Returns a tuple of (STAC item, item platform name, item date)\n",
    "    \"\"\"\n",
    "    # get item details\n",
    "    item_details = pd.DataFrame(\n",
    "        [\n",
    "            {\n",
    "                \"datetime\": item.datetime.strftime(\"%Y-%m-%d\"),\n",
    "                \"platform\": item.properties[\"platform\"],\n",
    "                \"min_long\": item.bbox[0],\n",
    "                \"max_long\": item.bbox[2],\n",
    "                \"min_lat\": item.bbox[1],\n",
    "                \"max_lat\": item.bbox[3],\n",
    "                \"item_obj\": item,\n",
    "                \"cloud_cover\": item.properties[\"eo:cloud_cover\"],\n",
    "            }\n",
    "            for item in items\n",
    "        ]\n",
    "    )\n",
    "\n",
    "    # filter to items that contain the point location, or return None if none contain the point\n",
    "    item_details[\"contains_sample_point\"] = (\n",
    "        (item_details.min_lat < latitude)\n",
    "        & (item_details.max_lat > latitude)\n",
    "        & (item_details.min_long < longitude)\n",
    "        & (item_details.max_long > longitude)\n",
    "    )\n",
    "    item_details = item_details[item_details[\"contains_sample_point\"] == True]\n",
    "    if len(item_details) == 0:\n",
    "        return (np.nan, np.nan, np.nan)\n",
    "\n",
    "    # add time difference between each item and the sample\n",
    "    item_details[\"time_diff\"] = pd.to_datetime(date) - pd.to_datetime(\n",
    "        item_details[\"datetime\"]\n",
    "    )\n",
    "\n",
    "    # return the closest imagery by time\n",
    "    return item_details.sort_values(by=\"time_diff\", ascending=True)"
   ]
  },
  {
   "cell_type": "code",
   "execution_count": 78,
   "id": "7a0284f0-20a6-44d0-9042-712bccaec2ee",
   "metadata": {},
   "outputs": [],
   "source": [
    "def check_clouds(ordered_items, bounding_box):\n",
    "    \"\"\" \"\"\"\n",
    "    (minx, miny, maxx, maxy) = bounding_box\n",
    "    best_item = None\n",
    "\n",
    "    for i in range(len(ordered_items)):\n",
    "        image = odc.stac.stac_load(\n",
    "            [ordered_items.iloc[i].item_obj],\n",
    "            bands=[\"qa_pixel\"],\n",
    "            bbox=feature_bbox,\n",
    "            resolution=30,\n",
    "            crs=\"utm\",\n",
    "        ).isel(time=0)\n",
    "\n",
    "        qa_image_array = image[[\"qa_pixel\"]].to_array().to_numpy()  # resolution 30 m\n",
    "        # Como indicador de si hay nubosidad o no, se toma el bit de la posición 6 del entero que se corresponde con \"Clear\" que vale 1 si los bits de \"Clouds\" y \"Dilated Clouds\" no están activos\n",
    "        cloud_image_array = CLEAR_BIT_FILTER(qa_image_array)\n",
    "        \n",
    "        if  np.size(cloud_image_array[cloud_image_array==1]) >= 0.25 * np.size(cloud_image_array):\n",
    "            best_item = ordered_items.iloc[i]\n",
    "            break\n",
    "\n",
    "    return [best_item, qa_image_array]"
   ]
  },
  {
   "cell_type": "markdown",
   "id": "b74dd13e-cf1a-427f-aeaf-87b39d90efab",
   "metadata": {
    "tags": []
   },
   "source": [
    "## Extracción de las imágenes"
   ]
  },
  {
   "cell_type": "code",
   "execution_count": 12,
   "id": "c03951b4-b9b1-4284-839c-934f0e57136c",
   "metadata": {},
   "outputs": [],
   "source": [
    "# Establish a connection to the STAC API\n",
    "catalog = Client.open(\n",
    "    \"https://planetarycomputer.microsoft.com/api/stac/v1\", modifier=pc.sign_inplace\n",
    ")"
   ]
  },
  {
   "cell_type": "code",
   "execution_count": 13,
   "id": "7cf231a0-3c70-42c0-821e-93ac859d83c9",
   "metadata": {},
   "outputs": [],
   "source": [
    "sentinel_data = json.load(open(SENTINEL_DATA_DIR / \"selected_items.txt\"))"
   ]
  },
  {
   "cell_type": "code",
   "execution_count": 14,
   "id": "c220503c-fd98-450d-8f40-96241e35f1be",
   "metadata": {},
   "outputs": [],
   "source": [
    "train_subset = metadata[~metadata.uid.isin(sentinel_data.keys())]"
   ]
  },
  {
   "cell_type": "code",
   "execution_count": 80,
   "id": "9fea79e2-c78f-42e3-8342-1264cf18ef67",
   "metadata": {
    "scrolled": true,
    "tags": []
   },
   "outputs": [
    {
     "name": "stderr",
     "output_type": "stream",
     "text": [
      "100%|██████████| 9807/9807 [1:51:51<00:00,  1.46it/s]  \n"
     ]
    }
   ],
   "source": [
    "selected_items = {}\n",
    "not_possible = []\n",
    "errored_ids = []\n",
    "\n",
    "for row in tqdm(train_subset.itertuples(), total=len(train_subset)):\n",
    "    pass\n",
    "    # check if we've already saved the selected image array\n",
    "    img_pth = LANDSAT_DATA_DIR / f\"cloud/{row.uid}.npy\"\n",
    "\n",
    "    try:\n",
    "        with open(img_pth, \"rb\") as f:\n",
    "            continue\n",
    "    except:\n",
    "        try:\n",
    "\n",
    "            ## imagen con más de la mitad nublado\n",
    "            ## QUERY STAC API\n",
    "            # get query ranges for location and date\n",
    "            search_bbox = get_bounding_box(\n",
    "                row.latitude, row.longitude, meter_buffer=50000\n",
    "            )\n",
    "            date_range = get_date_range(row.date, time_buffer_days=15)\n",
    "\n",
    "            # search the planetary computer\n",
    "            search = catalog.search(\n",
    "                collections=[\"landsat-c2-l2\"],\n",
    "                bbox=search_bbox,\n",
    "                datetime=date_range,\n",
    "                query={\n",
    "                    \"platform\": {\n",
    "                        \"in\": [\n",
    "                            # \"landsat-7\",\n",
    "                            \"landsat-8\",\n",
    "                            \"landsat-9\",\n",
    "                        ]\n",
    "                    }\n",
    "                },\n",
    "            )\n",
    "            items = [item for item in search.get_all_items()]\n",
    "\n",
    "            ## GET BEST IMAGE\n",
    "            if len(items) == 0:\n",
    "                not_possible.append(row.uid)\n",
    "                continue\n",
    "            else:\n",
    "                ordered_items = select_best_item_list(items, row.date, row.latitude, row.longitude)\n",
    "\n",
    "            ## CONVERT TO FEATURES\n",
    "            # get small bbox just for features\n",
    "            feature_bbox = get_bounding_box(\n",
    "                row.latitude, row.longitude, meter_buffer=200\n",
    "            )\n",
    "            # comprobación nubosidad\n",
    "            [best_item, qa_image_array] = check_clouds(ordered_items, feature_bbox)\n",
    "            if best_item is None:\n",
    "                not_possible.append(row.uid)\n",
    "                continue\n",
    "\n",
    "            add to dictionary tracking best items\n",
    "            selected_items[row.uid] = {\n",
    "                \"item_object\": str(best_item[\"item_obj\"]),\n",
    "                \"item_platform\": best_item[\"platform\"],\n",
    "                \"item_date\": best_item[\"datetime\"],\n",
    "                \"cloud_properties\": best_item[\"cloud_cover\"],\n",
    "                \"time_diff\": str(best_item[\"time_diff\"]),\n",
    "            }\n",
    "\n",
    "            crop the image. RGB bands, qa band, temperature and nir band\n",
    "            [\n",
    "                visual_image_array,\n",
    "                temp_image_array,\n",
    "                nir_image_array,\n",
    "            ] = crop_landsat_image(best_item, feature_bbox)\n",
    "\n",
    "            save image array so we don't have to rerun\n",
    "            with open(LANDSAT_DATA_DIR / f\"visual/{row.uid}.npy\", \"wb\") as f:\n",
    "                np.save(f, visual_image_array)\n",
    "            with open(LANDSAT_DATA_DIR / f\"cloud/{row.uid}.npy\", \"wb\") as f:\n",
    "                np.save(f, qa_image_array)\n",
    "            with open(LANDSAT_DATA_DIR / f\"temperature/{row.uid}.npy\", \"wb\") as f:\n",
    "                np.save(f, temp_image_array)\n",
    "            with open(LANDSAT_DATA_DIR / f\"nir/{row.uid}.npy\", \"wb\") as f:\n",
    "                np.save(f, nir_image_array)\n",
    "\n",
    "        # keep track of any that ran into errors without interrupting the process\n",
    "        except Exception as e:\n",
    "            errored_ids.append(row.uid)"
   ]
  },
  {
   "cell_type": "code",
   "execution_count": 55,
   "id": "3d7d082c-bdb4-495f-8ad0-4571a509fa28",
   "metadata": {},
   "outputs": [],
   "source": [
    "with open(LANDSAT_DATA_DIR / \"selected_items.txt\", \"w\") as f:\n",
    "    json.dump(selected_items, f)"
   ]
  },
  {
   "cell_type": "code",
   "execution_count": 56,
   "id": "e98f2b63-8632-4be1-afc5-fc4c3f52dec7",
   "metadata": {},
   "outputs": [
    {
     "name": "stdout",
     "output_type": "stream",
     "text": [
      "Could not pull satellite imagery for 29 samples\n"
     ]
    }
   ],
   "source": [
    "print(f\"Could not pull satellite imagery for {len(errored_ids)} samples\")"
   ]
  },
  {
   "cell_type": "code",
   "execution_count": 57,
   "id": "a070155a-b678-42c3-ba50-267eb9af974f",
   "metadata": {},
   "outputs": [
    {
     "name": "stdout",
     "output_type": "stream",
     "text": [
      "Could not pull satellite imagery for 3574 samples\n"
     ]
    }
   ],
   "source": [
    "print(f\"Could not pull satellite imagery for {len(not_possible)} samples\")"
   ]
  },
  {
   "cell_type": "code",
   "execution_count": 81,
   "id": "99dad40d-d7fe-4eb6-98ff-eee98b18f029",
   "metadata": {},
   "outputs": [
    {
     "name": "stderr",
     "output_type": "stream",
     "text": [
      "100%|██████████| 9807/9807 [49:34<00:00,  3.30it/s]  \n"
     ]
    }
   ],
   "source": [
    "selected_items7 = {}\n",
    "not_possible7 = []\n",
    "errored_ids7 = []\n",
    "\n",
    "for row in tqdm(train_subset.itertuples(), total=len(train_subset)):\n",
    "    pass\n",
    "    # check if we've already saved the selected image array\n",
    "    img_pth = LANDSAT_DATA_DIR / f\"cloud/{row.uid}.npy\"\n",
    "\n",
    "    try:\n",
    "        with open(img_pth, \"rb\") as f:\n",
    "            continue\n",
    "    except:\n",
    "        try:\n",
    "            ## imagen con más de la mitad nublado\n",
    "            ## QUERY STAC API\n",
    "            # get query ranges for location and date\n",
    "            search_bbox = get_bounding_box(\n",
    "                row.latitude, row.longitude, meter_buffer=50000\n",
    "            )\n",
    "            date_range = get_date_range(row.date, time_buffer_days=15)\n",
    "\n",
    "            # search the planetary computer\n",
    "            search = catalog.search(\n",
    "                collections=[\"landsat-c2-l2\"],\n",
    "                bbox=search_bbox,\n",
    "                datetime=date_range,\n",
    "                query={\n",
    "                    \"platform\": {\n",
    "                        \"in\": [\n",
    "                            \"landsat-7\"\n",
    "                        ]\n",
    "                    }\n",
    "                },\n",
    "            )\n",
    "            items = [item for item in search.get_all_items()]\n",
    "\n",
    "            ## GET BEST IMAGE\n",
    "            if len(items) == 0:\n",
    "                not_possible7.append(row.uid)\n",
    "                continue\n",
    "            else:\n",
    "                ordered_items = select_best_item_list(items, row.date, row.latitude, row.longitude)\n",
    "\n",
    "            ## CONVERT TO FEATURES\n",
    "            # get small bbox just for features\n",
    "            feature_bbox = get_bounding_box(\n",
    "                row.latitude, row.longitude, meter_buffer=200\n",
    "            )\n",
    "            # comprobación nubosidad\n",
    "            [best_item, qa_image_array] = check_clouds(ordered_items, feature_bbox)\n",
    "            if best_item is None:\n",
    "                not_possible7.append(row.uid)\n",
    "                continue\n",
    "\n",
    "            # add to dictionary tracking best items\n",
    "            selected_items7[row.uid] = {\n",
    "                \"item_object\": str(best_item[\"item_obj\"]),\n",
    "                \"item_platform\": best_item[\"platform\"],\n",
    "                \"item_date\": best_item[\"datetime\"],\n",
    "                \"cloud_properties\": best_item[\"cloud_cover\"],\n",
    "                \"time_diff\": str(best_item[\"time_diff\"]),\n",
    "            }\n",
    "\n",
    "            # crop the image. RGB bands, qa band, temperature and nir band\n",
    "            [\n",
    "                visual_image_array,\n",
    "                temp_image_array,\n",
    "                nir_image_array,\n",
    "            ] = crop_landsat7_image(best_item, feature_bbox)\n",
    "\n",
    "            # save image array so we don't have to rerun\n",
    "            with open(LANDSAT_DATA_DIR / f\"visual/{row.uid}.npy\", \"wb\") as f:\n",
    "                np.save(f, visual_image_array)\n",
    "            with open(LANDSAT_DATA_DIR / f\"cloud/{row.uid}.npy\", \"wb\") as f:\n",
    "                np.save(f, qa_image_array)\n",
    "            with open(LANDSAT_DATA_DIR / f\"temperature/{row.uid}.npy\", \"wb\") as f:\n",
    "                np.save(f, temp_image_array)\n",
    "            with open(LANDSAT_DATA_DIR / f\"nir/{row.uid}.npy\", \"wb\") as f:\n",
    "                np.save(f, nir_image_array)\n",
    "\n",
    "                # keep track of any that ran into errors without interrupting the process\n",
    "        except Exception as e:\n",
    "            errored_ids7.append(row.uid)"
   ]
  },
  {
   "cell_type": "code",
   "execution_count": 59,
   "id": "1a4d2622-ef5e-40fc-afe9-d85edea99924",
   "metadata": {},
   "outputs": [],
   "source": [
    "with open(LANDSAT_DATA_DIR / \"selected_items7.txt\", \"w\") as f:\n",
    "    json.dump(selected_items7, f)"
   ]
  },
  {
   "cell_type": "code",
   "execution_count": 60,
   "id": "1c2821bf-9fa9-4f1d-a5a5-c15cc4e17ff0",
   "metadata": {},
   "outputs": [
    {
     "name": "stdout",
     "output_type": "stream",
     "text": [
      "Could not pull satellite imagery for 8 samples\n"
     ]
    }
   ],
   "source": [
    "print(f\"Could not pull satellite imagery for {len(errored_ids7)} samples\")"
   ]
  },
  {
   "cell_type": "code",
   "execution_count": 61,
   "id": "c6f78776-47f1-400d-a807-f848b2682714",
   "metadata": {},
   "outputs": [
    {
     "name": "stdout",
     "output_type": "stream",
     "text": [
      "Could not pull satellite imagery for 1989 samples\n"
     ]
    }
   ],
   "source": [
    "print(f\"Could not pull satellite imagery for {len(not_possible7)} samples\")"
   ]
  },
  {
   "cell_type": "code",
   "execution_count": 62,
   "id": "256aa51a-3e01-466f-8c52-fd44e967b2d1",
   "metadata": {},
   "outputs": [
    {
     "data": {
      "text/plain": [
       "1606"
      ]
     },
     "execution_count": 62,
     "metadata": {},
     "output_type": "execute_result"
    }
   ],
   "source": [
    "len(selected_items7)"
   ]
  },
  {
   "cell_type": "code",
   "execution_count": 82,
   "id": "7081ba29-e488-4e3f-b3a5-c7fbfb671ec8",
   "metadata": {},
   "outputs": [
    {
     "data": {
      "text/plain": [
       "<matplotlib.image.AxesImage at 0x21816032190>"
      ]
     },
     "execution_count": 82,
     "metadata": {},
     "output_type": "execute_result"
    },
    {
     "data": {
      "image/png": "[encoded data removed]",
      "text/plain": [
       "<Figure size 640x480 with 1 Axes>"
      ]
     },
     "metadata": {},
     "output_type": "display_data"
    }
   ],
   "source": [
    "with open(LANDSAT_DATA_DIR / \"cloud/abcx.npy\", \"rb\") as f:\n",
    "    img = np.load(f)\n",
    "plt.imshow(np.transpose(img, axes=[1, 2, 0]))"
   ]
  }
 ],
 "metadata": {
  "kernelspec": {
   "display_name": "Python 3 (ipykernel)",
   "language": "python",
   "name": "python3"
  },
  "language_info": {
   "codemirror_mode": {
    "name": "ipython",
    "version": 3
   },
   "file_extension": ".py",
   "mimetype": "text/x-python",
   "name": "python",
   "nbconvert_exporter": "python",
   "pygments_lexer": "ipython3",
   "version": "3.11.2"
  }
 },
 "nbformat": 4,
 "nbformat_minor": 5
}
