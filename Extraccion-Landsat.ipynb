{
 "cells": [
  {
   "cell_type": "markdown",
   "id": "a2abf25e-8813-4d6c-97ad-277d28c73c8a",
   "metadata": {
    "tags": []
   },
   "source": [
    "# Obtención de las imágenes provenientes de Landsat-7/8 y 9"
   ]
  },
  {
   "cell_type": "markdown",
   "id": "1405fdfc-8b05-4d82-a32e-bdf54c150d5b",
   "metadata": {},
   "source": [
    "EL siguiente código emplea los paquetes *planetary_computer* y *pystac_client* para establecer la conexión con la STAC API de Planetary Computer [[1]](https://planetarycomputer.microsoft.com/docs/quickstarts/reading-stac/).  El paquete ocd.stac se emplea para la lectura y visualización de las imágenes satelitales provenientes de los satélites Landsat-7, Landsat-8 y Landsat-9 [[2]](https://odc-stac.readthedocs.io/en/latest/_api/odc.stac.load.html#odc.stac.load)."
   ]
  },
  {
   "cell_type": "markdown",
   "id": "7614e61c-cd9b-4c35-bc52-1c7b674c0f9c",
   "metadata": {
    "tags": []
   },
   "source": [
    "## Imports"
   ]
  },
  {
   "cell_type": "code",
   "execution_count": null,
   "id": "b2dd8a84-7e7e-4be4-a542-ac40063f3b88",
   "metadata": {},
   "outputs": [],
   "source": [
    "%load_ext lab_black\n",
    "%load_ext autoreload\n",
    "%autoreload 2"
   ]
  },
  {
   "cell_type": "code",
   "execution_count": null,
   "id": "6c129f8c-4b88-4384-8b33-01953d80a353",
   "metadata": {},
   "outputs": [],
   "source": [
    "import cv2\n",
    "from datetime import timedelta\n",
    "import numpy as np\n",
    "import odc.stac\n",
    "import pandas as pd\n",
    "from pathlib import Path\n",
    "from tqdm import tqdm\n",
    "import planetary_computer as pc\n",
    "from pystac_client import Client\n",
    "import geopy.distance as distance\n",
    "import json\n",
    "\n",
    "%matplotlib inline"
   ]
  },
  {
   "cell_type": "markdown",
   "id": "e5c07ab4-dbc9-49e7-aaf8-c666c86ec27c",
   "metadata": {
    "tags": []
   },
   "source": [
    "## Definición de parámetros"
   ]
  },
  {
   "cell_type": "code",
   "execution_count": null,
   "id": "a3cf3069-8538-4227-b6b3-58ac2effb5ab",
   "metadata": {},
   "outputs": [],
   "source": [
    "# Directorios de donde se leerá y almacenará la información\n",
    "DATA_DIR = Path.cwd().resolve() / \"data\"\n",
    "LANDSAT_DATA_DIR = DATA_DIR / \"landsat\"\n",
    "SENTINEL_DATA_DIR = DATA_DIR / \"sentinel\"\n",
    "\n",
    "# Desenmascaramiento de los bits clear según codificación.\n",
    "CLEAR_BIT_FILTER = np.vectorize(lambda num: int(format(num, \"#018b\")[-7]))\n",
    "\n",
    "# Máximo de días hacia atrás donde se permite descargar la imagen, respecto a la fecha de la medición in situ\n",
    "TIME_BUFFER_DAYS = 15\n",
    "\n",
    "# Tamaño del detalle de la imagen (se aplica a cada dirección cardinal)\n",
    "METER_BUFFER = 200"
   ]
  },
  {
   "cell_type": "markdown",
   "id": "0716e282-4de8-4ebd-9b6b-8cc42fb80755",
   "metadata": {
    "tags": []
   },
   "source": [
    "## Metadata in situ"
   ]
  },
  {
   "cell_type": "code",
   "execution_count": null,
   "id": "b2d8ceed-a9fa-4d85-8a05-aafc708b9b75",
   "metadata": {},
   "outputs": [],
   "source": [
    "metadata = pd.read_csv(DATA_DIR / \"metadata.csv\")"
   ]
  },
  {
   "cell_type": "code",
   "execution_count": null,
   "id": "7b1fff6f-b17f-4f70-8b40-6486de25feaa",
   "metadata": {},
   "outputs": [],
   "source": [
    "# Se convierte la variable fecha al tipo datetime\n",
    "metadata.date = pd.to_datetime(metadata.date)"
   ]
  },
  {
   "cell_type": "markdown",
   "id": "63ba2a8f-6aae-49ee-aa82-d0303746b993",
   "metadata": {
    "tags": []
   },
   "source": [
    "## Funciones"
   ]
  },
  {
   "cell_type": "code",
   "execution_count": null,
   "id": "01c96500-9092-4e89-87d5-831752d835e9",
   "metadata": {},
   "outputs": [],
   "source": [
    "def get_bounding_box(latitude, longitude, meter_buffer=50000):\n",
    "    \"\"\"\n",
    "    Dada una latitud, longitud y buffer en metros, devuelve una superficie rectangular alrededor de las coordenadas proporcionadas en\n",
    "    cada una de las direcciones cardinales\n",
    "\n",
    "    Devuelve una lista de [minx, miny, maxx, maxy]\n",
    "    \"\"\"\n",
    "    distance_search = distance.distance(meters=meter_buffer)\n",
    "\n",
    "    # calcula la lat/long basada en la distancia en tierra\n",
    "    # cada orientación corresponde a una dirección cardinal (sur, oeste, norte, y este)\n",
    "    min_lat = distance_search.destination((latitude, longitude), bearing=180)[0]\n",
    "    min_long = distance_search.destination((latitude, longitude), bearing=270)[1]\n",
    "    max_lat = distance_search.destination((latitude, longitude), bearing=0)[0]\n",
    "    max_long = distance_search.destination((latitude, longitude), bearing=90)[1]\n",
    "\n",
    "    return [min_long, min_lat, max_long, max_lat]"
   ]
  },
  {
   "cell_type": "code",
   "execution_count": null,
   "id": "3670f124-2bc6-4b7b-869f-4bee8d6c0396",
   "metadata": {},
   "outputs": [],
   "source": [
    "def get_date_range(date, time_buffer_days=TIME_BUFFER_DAYS):\n",
    "    \"\"\"\n",
    "    Obtiene el rango de fechas con las que se busca en PC a partir de la fecha de medición y el límite de días atras establecido\n",
    "\n",
    "    Devuelve un string con el rango\n",
    "    \"\"\"\n",
    "    datetime_format = \"%Y-%m-%dT\"\n",
    "    range_start = pd.to_datetime(date) - timedelta(days=time_buffer_days)\n",
    "    date_range = f\"{range_start.strftime(datetime_format)}00:00:00Z/{pd.to_datetime(date).strftime(datetime_format)}23:59:59Z\"\n",
    "\n",
    "    return date_range"
   ]
  },
  {
   "cell_type": "code",
   "execution_count": null,
   "id": "fed07b79-0d36-4db1-a587-5b22227bc874",
   "metadata": {},
   "outputs": [],
   "source": [
    "def crop_landsat_image(item, bounding_box):\n",
    "    \"\"\"\n",
    "    Dado un STAC ítem de Landsat y la bbox en formato tupla (minx, miny, maxx, maxy), devuelve un recorte de la imagen\n",
    "\n",
    "    Devuelve las imágenes como un vector numpy con dimensiones [(3,Px,Py),(1,Px,Py), (1,Px,Py)], siendo Px y Py los píxeles\n",
    "    en cada dirección del plano\n",
    "    \"\"\"\n",
    "\n",
    "    (minx, miny, maxx, maxy) = bounding_box\n",
    "    bands_of_interest = [\"red\", \"green\", \"blue\", \"lwir11\", \"nir08\"]\n",
    "    image = odc.stac.stac_load(\n",
    "        [item.item_obj],\n",
    "        bands=bands_of_interest,\n",
    "        bbox=[minx, miny, maxx, maxy],\n",
    "        resolution=30,  # resolución 30 m\n",
    "        crs=\"utm\",\n",
    "    ).isel(time=0)\n",
    "    image_array = image[[\"red\", \"green\", \"blue\"]].to_array().to_numpy()  # imagen visual\n",
    "    temp_image_array = (\n",
    "        image[[\"lwir11\"]].to_array().to_numpy()\n",
    "    )  # imagen para la obtención de la temperatura\n",
    "    nir_image_array = (\n",
    "        image[[\"nir08\"]].to_array().to_numpy()\n",
    "    )  # imagen para la banda cercana al infrarrojo (NIR)\n",
    "\n",
    "    # Se normalizan los valores a 0-255 para unificar los rangos con las imágenes de Sentinel - 2\n",
    "    visual_image_array = cv2.normalize(image_array, None, 0, 255, cv2.NORM_MINMAX)\n",
    "\n",
    "    return [visual_image_array, temp_image_array, nir_image_array]"
   ]
  },
  {
   "cell_type": "code",
   "execution_count": null,
   "id": "a13e3254-39f8-4545-a5a7-0b1b1c1a721f",
   "metadata": {},
   "outputs": [],
   "source": [
    "def crop_landsat7_image(item, bounding_box):\n",
    "    \"\"\"\n",
    "    Dado un STAC ítem de Landsat-7 y la bbox en formato tupla (minx, miny, maxx, maxy), devuelve un recorte de la imagen\n",
    "\n",
    "    Devuelve las imágenes como un vector numpy con dimensiones [(3,Px,Py),(1,Px,Py), (1,Px,Py)], siendo Px y Py los píxeles\n",
    "    en cada dirección del plano.\n",
    "\n",
    "    * La diferencia con respecto a la función crop_landsat_image es la banda de temperatura, cuyo nombre de asset cambia de lwir11 a lwir\n",
    "    \"\"\"\n",
    "\n",
    "    (minx, miny, maxx, maxy) = bounding_box\n",
    "    bands_of_interest = [\"red\", \"green\", \"blue\", \"lwir\", \"nir08\"]\n",
    "    image = odc.stac.stac_load(\n",
    "        [item.item_obj],\n",
    "        bands=bands_of_interest,\n",
    "        bbox=[minx, miny, maxx, maxy],\n",
    "        resolution=30,  # resolución de píxel de 30 m\n",
    "        crs=\"utm\",\n",
    "    ).isel(time=0)\n",
    "    image_array = (\n",
    "        image[[\"red\", \"green\", \"blue\"]].to_array().to_numpy()\n",
    "    )  # imagen visual a partir de las tres bandas de colores\n",
    "    temp_image_array = (\n",
    "        image[[\"lwir\"]].to_array().to_numpy()\n",
    "    )  # imagen para la obtención de la temperatura\n",
    "    nir_image_array = image[[\"nir08\"]].to_array().to_numpy()  # imagen NIR\n",
    "\n",
    "    # Se normalizan los valores a 0-255 para unificar los rangos con las imágenes de Sentinel - 2\n",
    "    visual_image_array = cv2.normalize(image_array, None, 0, 255, cv2.NORM_MINMAX)\n",
    "\n",
    "    return [visual_image_array, temp_image_array, nir_image_array]"
   ]
  },
  {
   "cell_type": "code",
   "execution_count": null,
   "id": "b97bbc2d-90df-42a1-b00f-74242834fec8",
   "metadata": {},
   "outputs": [],
   "source": [
    "# Refactor our process from above into functions\n",
    "def select_item_list(items, date, latitude, longitude):\n",
    "    \"\"\"\n",
    "    Devuelve una lista con los ítems válidos:\n",
    "    - Debe contener la coordenada de medición\n",
    "    - Se encuentra dentro del rango temporal definido\n",
    "\n",
    "    Devuelve una estructura dataframe ordenada por la diferencia temporal con respecto a la fecha de medición (de menor a mayor),\n",
    "    con los detalles de los ítems\n",
    "    \"\"\"\n",
    "    # Obtención de los atributos de los ítems\n",
    "    item_details = pd.DataFrame(\n",
    "        [\n",
    "            {\n",
    "                \"datetime\": item.datetime.strftime(\"%Y-%m-%d\"),\n",
    "                \"platform\": item.properties[\"platform\"],\n",
    "                \"min_long\": item.bbox[0],\n",
    "                \"max_long\": item.bbox[2],\n",
    "                \"min_lat\": item.bbox[1],\n",
    "                \"max_lat\": item.bbox[3],\n",
    "                \"item_obj\": item,\n",
    "                \"cloud_cover\": item.properties[\"eo:cloud_cover\"],\n",
    "            }\n",
    "            for item in items\n",
    "        ]\n",
    "    )\n",
    "\n",
    "    # filtrado de los puntos que contienen la localización de la medición\n",
    "    item_details[\"contains_sample_point\"] = (\n",
    "        (item_details.min_lat < latitude)\n",
    "        & (item_details.max_lat > latitude)\n",
    "        & (item_details.min_long < longitude)\n",
    "        & (item_details.max_long > longitude)\n",
    "    )\n",
    "    item_details = item_details[item_details[\"contains_sample_point\"] == True]\n",
    "    if len(item_details) == 0:\n",
    "        return (np.nan, np.nan, np.nan)\n",
    "\n",
    "    # Se añade la diferencia temporal como atributo al df\n",
    "    item_details[\"time_diff\"] = pd.to_datetime(date) - pd.to_datetime(\n",
    "        item_details[\"datetime\"]\n",
    "    )\n",
    "\n",
    "    return item_details.sort_values(by=\"time_diff\", ascending=True)"
   ]
  },
  {
   "cell_type": "code",
   "execution_count": null,
   "id": "7a0284f0-20a6-44d0-9042-712bccaec2ee",
   "metadata": {},
   "outputs": [],
   "source": [
    "def check_clouds(ordered_items, bounding_box):\n",
    "    \"\"\"\n",
    "    Comprueba que el porcentaje de píxeles clear sea mayor al 25%, a partir de la lista de ítems y el área de búsqueda\n",
    "\n",
    "    Devuelve el ítem que cumple el criterio de nubosidad y de menor diferencia temporal con la fecha de medición. Además retorna\n",
    "    la imagen empleada para el cáculo de la nubosidad\n",
    "    \"\"\"\n",
    "    (minx, miny, maxx, maxy) = bounding_box\n",
    "    best_item = None\n",
    "\n",
    "    for i in range(len(ordered_items)):\n",
    "        image = odc.stac.stac_load(\n",
    "            [ordered_items.iloc[i].item_obj],\n",
    "            bands=[\"qa_pixel\"],\n",
    "            bbox=feature_bbox,\n",
    "            resolution=30,\n",
    "            crs=\"utm\",\n",
    "        ).isel(time=0)\n",
    "\n",
    "        qa_image_array = image[[\"qa_pixel\"]].to_array().to_numpy()\n",
    "\n",
    "        # Como indicador de si hay nubosidad o no, se toma el bit de la posición 6 del entero que se corresponde con \"Clear\"\n",
    "        # que vale 1 si los bits de \"Clouds\" y \"Dilated Clouds\" no están activos\n",
    "        cloud_image_array = CLEAR_BIT_FILTER(qa_image_array)\n",
    "\n",
    "        if np.size(cloud_image_array[cloud_image_array == 1]) >= 0.25 * np.size(\n",
    "            cloud_image_array\n",
    "        ):\n",
    "            best_item = ordered_items.iloc[i]\n",
    "            break\n",
    "\n",
    "    return [best_item, qa_image_array]"
   ]
  },
  {
   "cell_type": "markdown",
   "id": "b74dd13e-cf1a-427f-aeaf-87b39d90efab",
   "metadata": {
    "tags": []
   },
   "source": [
    "## Extracción de las imágenes"
   ]
  },
  {
   "cell_type": "code",
   "execution_count": null,
   "id": "c03951b4-b9b1-4284-839c-934f0e57136c",
   "metadata": {},
   "outputs": [],
   "source": [
    "# Establece la conexión con el STAC API\n",
    "catalog = Client.open(\n",
    "    \"https://planetarycomputer.microsoft.com/api/stac/v1\", modifier=pc.sign_inplace\n",
    ")"
   ]
  },
  {
   "cell_type": "code",
   "execution_count": null,
   "id": "7cf231a0-3c70-42c0-821e-93ac859d83c9",
   "metadata": {},
   "outputs": [],
   "source": [
    "# Carga los ítems ya disponibles a partir de Sentinel, por lo que no es necesario descargar las imágenes Landsat\n",
    "sentinel_data = json.load(open(SENTINEL_DATA_DIR / \"selected_items.txt\"))"
   ]
  },
  {
   "cell_type": "code",
   "execution_count": null,
   "id": "c220503c-fd98-450d-8f40-96241e35f1be",
   "metadata": {},
   "outputs": [],
   "source": [
    "data_subset = metadata[~metadata.uid.isin(sentinel_data.keys())]"
   ]
  },
  {
   "cell_type": "code",
   "execution_count": null,
   "id": "9fea79e2-c78f-42e3-8342-1264cf18ef67",
   "metadata": {
    "scrolled": true,
    "tags": []
   },
   "outputs": [],
   "source": [
    "selected_items = {} # mantiene un registro de los items seleccionados\n",
    "not_possible = [] # mantiene un registro de aquellos ítems no disponibles\n",
    "errored_ids = [] # mantiene un registro de aquellos ítems que han fallado durante la descarga\n",
    "\n",
    "for row in tqdm(data_subset.itertuples(), total=len(data_subset)):\n",
    "    \n",
    "    pass\n",
    "    img_pth = LANDSAT_DATA_DIR / f\"cloud/{row.uid}.npy\"\n",
    "    \n",
    "    # se comprueba que el item no exista ya en el directorio\n",
    "    try:\n",
    "        with open(img_pth, \"rb\") as f:\n",
    "            continue\n",
    "    except:\n",
    "        try:\n",
    "\n",
    "            # QUERY STAC API\n",
    "            search_bbox = get_bounding_box(\n",
    "                row.latitude, row.longitude, meter_buffer=50000\n",
    "            )\n",
    "            date_range = get_date_range(row.date, time_buffer_days=TIME_BUFFER_DAYS)\n",
    "\n",
    "            # se busca en el catálogo de planetary computer\n",
    "            search = catalog.search(\n",
    "                collections=[\"landsat-c2-l2\"],\n",
    "                bbox=search_bbox,\n",
    "                datetime=date_range,\n",
    "                query={\n",
    "                    \"platform\": {\n",
    "                        \"in\": [\n",
    "                            \"landsat-8\",\n",
    "                            \"landsat-9\",\n",
    "                        ]\n",
    "                    }\n",
    "                },\n",
    "            )\n",
    "            items = [item for item in search.get_all_items()]\n",
    "\n",
    "            # Se comprueba que hayan ítems y se ordenan según la diferencia de fechas. Se descartan aquellos ítems que no contienen\n",
    "            # el lugar de la medición\n",
    "            if len(items) == 0:\n",
    "                not_possible.append(row.uid)\n",
    "                continue\n",
    "            else:\n",
    "                ordered_items = select_item_list(items, row.date, row.latitude, row.longitude)\n",
    "\n",
    "            # Creación de la superficie del detalle\n",
    "            feature_bbox = get_bounding_box(\n",
    "                row.latitude, row.longitude, meter_buffer=METER_BUFFER\n",
    "            )\n",
    "            \n",
    "            # Comprobación nubosidad\n",
    "            [best_item, qa_image_array] = check_clouds(ordered_items, feature_bbox)\n",
    "            if best_item is None:\n",
    "                not_possible.append(row.uid)\n",
    "                continue\n",
    "\n",
    "            # Registro de los ítems seleccionados\n",
    "            selected_items[row.uid] = {\n",
    "                \"item_object\": str(best_item[\"item_obj\"]),\n",
    "                \"item_platform\": best_item[\"platform\"],\n",
    "                \"item_date\": best_item[\"datetime\"],\n",
    "                \"cloud_properties\": best_item[\"cloud_cover\"],\n",
    "                \"time_diff\": str(best_item[\"time_diff\"]),\n",
    "            }\n",
    "\n",
    "            # Obtención de las imagenes recortadas\n",
    "            [\n",
    "                visual_image_array,\n",
    "                temp_image_array,\n",
    "                nir_image_array,\n",
    "            ] = crop_landsat_image(best_item, feature_bbox)\n",
    "\n",
    "            # Almacenamiento\n",
    "            with open(LANDSAT_DATA_DIR / f\"visual/{row.uid}.npy\", \"wb\") as f:\n",
    "                np.save(f, visual_image_array)\n",
    "            with open(LANDSAT_DATA_DIR / f\"cloud/{row.uid}.npy\", \"wb\") as f:\n",
    "                np.save(f, qa_image_array)\n",
    "            with open(LANDSAT_DATA_DIR / f\"temperature/{row.uid}.npy\", \"wb\") as f:\n",
    "                np.save(f, temp_image_array)\n",
    "            with open(LANDSAT_DATA_DIR / f\"nir/{row.uid}.npy\", \"wb\") as f:\n",
    "                np.save(f, nir_image_array)\n",
    "\n",
    "        # Registro de los elementos que han dado error\n",
    "        except Exception as e:\n",
    "            errored_ids.append(row.uid)"
   ]
  },
  {
   "cell_type": "code",
   "execution_count": null,
   "id": "3d7d082c-bdb4-495f-8ad0-4571a509fa28",
   "metadata": {},
   "outputs": [],
   "source": [
    "with open(LANDSAT_DATA_DIR / \"selected_items.txt\", \"w\") as f:\n",
    "    json.dump(selected_items, f)"
   ]
  },
  {
   "cell_type": "code",
   "execution_count": null,
   "id": "e98f2b63-8632-4be1-afc5-fc4c3f52dec7",
   "metadata": {},
   "outputs": [],
   "source": [
    "print(f\"No se puedo obtener imágenes para {len(errored_ids)} elementos debido a errores\")"
   ]
  },
  {
   "cell_type": "code",
   "execution_count": null,
   "id": "a070155a-b678-42c3-ba50-267eb9af974f",
   "metadata": {},
   "outputs": [],
   "source": [
    "print(f\"No se puedo obtener imágenes para {len(not_possible)} elementos\")"
   ]
  },
  {
   "cell_type": "code",
   "execution_count": null,
   "id": "99dad40d-d7fe-4eb6-98ff-eee98b18f029",
   "metadata": {},
   "outputs": [],
   "source": [
    "selected_items7 = {} # mantiene un registro de los items seleccionados\n",
    "not_possible7 = [] # mantiene un registro de aquellos ítems no disponibles\n",
    "errored_ids7 = [] # mantiene un registro de aquellos ítems que han fallado durante la descarga\n",
    "\n",
    "for row in tqdm(data_subset.itertuples(), total=len(data_subset)):\n",
    "    pass\n",
    "    # se comprueba que el item no exista ya en el directorio\n",
    "    img_pth = LANDSAT_DATA_DIR / f\"cloud/{row.uid}.npy\"\n",
    "\n",
    "    try:\n",
    "        with open(img_pth, \"rb\") as f:\n",
    "            continue\n",
    "    except:\n",
    "        try:\n",
    "\n",
    "            ## QUERY STAC API\n",
    "            search_bbox = get_bounding_box(\n",
    "                row.latitude, row.longitude, meter_buffer=50000\n",
    "            )\n",
    "            date_range = get_date_range(row.date, time_buffer_days=TIME_BUFFER_DAYS)\n",
    "\n",
    "            # se busca en el catálogo de planetary computer\n",
    "            search = catalog.search(\n",
    "                collections=[\"landsat-c2-l2\"],\n",
    "                bbox=search_bbox,\n",
    "                datetime=date_range,\n",
    "                query={\n",
    "                    \"platform\": {\n",
    "                        \"in\": [\n",
    "                            \"landsat-7\"\n",
    "                        ]\n",
    "                    }\n",
    "                },\n",
    "            )\n",
    "            items = [item for item in search.get_all_items()]\n",
    "\n",
    "            # Se comprueba que hayan ítems y se ordenan según la diferencia de fechas. Se descartan aquellos ítems que no contienen\n",
    "            # el lugar de la medición\n",
    "            if len(items) == 0:\n",
    "                not_possible7.append(row.uid)\n",
    "                continue\n",
    "            else:\n",
    "                ordered_items = select_item_list(items, row.date, row.latitude, row.longitude)\n",
    "\n",
    "            # Creación de la superficie del detalle\n",
    "            feature_bbox = get_bounding_box(\n",
    "                row.latitude, row.longitude, meter_buffer=METER_BUFFER\n",
    "            )\n",
    "            # comprobación nubosidad\n",
    "            [best_item, qa_image_array] = check_clouds(ordered_items, feature_bbox)\n",
    "            if best_item is None:\n",
    "                not_possible7.append(row.uid)\n",
    "                continue\n",
    "\n",
    "            # Registro de los ítems seleccionados\n",
    "            selected_items7[row.uid] = {\n",
    "                \"item_object\": str(best_item[\"item_obj\"]),\n",
    "                \"item_platform\": best_item[\"platform\"],\n",
    "                \"item_date\": best_item[\"datetime\"],\n",
    "                \"cloud_properties\": best_item[\"cloud_cover\"],\n",
    "                \"time_diff\": str(best_item[\"time_diff\"]),\n",
    "            }\n",
    "\n",
    "            # Obtención de las imagenes recortadas\n",
    "            [\n",
    "                visual_image_array,\n",
    "                temp_image_array,\n",
    "                nir_image_array,\n",
    "            ] = crop_landsat7_image(best_item, feature_bbox)\n",
    "\n",
    "            # Almacenamiento\n",
    "            with open(LANDSAT_DATA_DIR / f\"visual/{row.uid}.npy\", \"wb\") as f:\n",
    "                np.save(f, visual_image_array)\n",
    "            with open(LANDSAT_DATA_DIR / f\"cloud/{row.uid}.npy\", \"wb\") as f:\n",
    "                np.save(f, qa_image_array)\n",
    "            with open(LANDSAT_DATA_DIR / f\"temperature/{row.uid}.npy\", \"wb\") as f:\n",
    "                np.save(f, temp_image_array)\n",
    "            with open(LANDSAT_DATA_DIR / f\"nir/{row.uid}.npy\", \"wb\") as f:\n",
    "                np.save(f, nir_image_array)\n",
    "\n",
    "        # Registro de los elementos que han dado error\n",
    "        except Exception as e:\n",
    "            errored_ids7.append(row.uid)"
   ]
  },
  {
   "cell_type": "code",
   "execution_count": null,
   "id": "1a4d2622-ef5e-40fc-afe9-d85edea99924",
   "metadata": {},
   "outputs": [],
   "source": [
    "with open(LANDSAT_DATA_DIR / \"selected_items7.txt\", \"w\") as f:\n",
    "    json.dump(selected_items7, f)"
   ]
  },
  {
   "cell_type": "code",
   "execution_count": null,
   "id": "1c2821bf-9fa9-4f1d-a5a5-c15cc4e17ff0",
   "metadata": {},
   "outputs": [],
   "source": [
    "print(f\"No se puedo obtener imágenes para {len(errored_ids7)} elementos debido a errores\")"
   ]
  },
  {
   "cell_type": "code",
   "execution_count": null,
   "id": "c6f78776-47f1-400d-a807-f848b2682714",
   "metadata": {},
   "outputs": [],
   "source": [
    "print(f\"No se puedo obtener imágenes para {len(not_possible7)} elementos\")"
   ]
  },
  {
   "cell_type": "markdown",
   "id": "a591615c-ff9e-488d-a2c6-3e7db897f643",
   "metadata": {},
   "source": [
    "## Referencias"
   ]
  },
  {
   "cell_type": "markdown",
   "id": "983c840a-94f0-4ec8-9caf-a1124282f268",
   "metadata": {},
   "source": [
    "[1] Microsoft. Microsoft Planetary Computer.Reading Data from the STAC API_ https://planetarycomputer.microsoft.com/docs/quickstarts/reading-stac/\n",
    "\n",
    "[2] ODC. Developer Guide odc.stac: https://odc-stac.readthedocs.io/en/latest/_api/odc.stac.load.html#odc.stac.load\n",
    "\n",
    "[3] Driven Data. Tick Tick Bloom: Harmful Algal Bloom Detection Challenge: https://www.drivendata.org/competitions/143/tick-tick-bloom/page/650/\n"
   ]
  }
 ],
 "metadata": {
  "kernelspec": {
   "display_name": "Python 3 (ipykernel)",
   "language": "python",
   "name": "python3"
  },
  "language_info": {
   "codemirror_mode": {
    "name": "ipython",
    "version": 3
   },
   "file_extension": ".py",
   "mimetype": "text/x-python",
   "name": "python",
   "nbconvert_exporter": "python",
   "pygments_lexer": "ipython3",
   "version": "3.11.2"
  }
 },
 "nbformat": 4,
 "nbformat_minor": 5
}
