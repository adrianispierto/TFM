{
 "cells": [
  {
   "cell_type": "markdown",
   "id": "cafa3da0-684d-4720-87e3-d8888e4f5b8c",
   "metadata": {
    "tags": []
   },
   "source": [
    "# Obtención de las imágenes provenientes de Sentinel-2"
   ]
  },
  {
   "cell_type": "markdown",
   "id": "e36691a1-386f-430c-8f17-7e6f408617e3",
   "metadata": {},
   "source": [
    "EL siguiente código emplea los paquetes *planetary_computer* y *pystac_client* para establecer la conexión con la STAC API de Planetary Computer [[1]](https://planetarycomputer.microsoft.com/docs/quickstarts/reading-stac/).  El paquete *rioxarray* se emplea para la lectura y visualización de las imágenes satelitales provenientes de los satélites Sentinel-2 [[2]](https://corteva.github.io/rioxarray/html/rioxarray.html)."
   ]
  },
  {
   "cell_type": "markdown",
   "id": "9b9a1aff-4bc3-48bc-bec2-ee838cac2bac",
   "metadata": {
    "tags": []
   },
   "source": [
    "## Imports"
   ]
  },
  {
   "cell_type": "code",
   "execution_count": null,
   "id": "794f3c2d-ac8e-40b6-b1dd-e671826dc503",
   "metadata": {},
   "outputs": [],
   "source": [
    "%load_ext lab_black\n",
    "%load_ext autoreload\n",
    "%autoreload 2"
   ]
  },
  {
   "cell_type": "code",
   "execution_count": null,
   "id": "1d2405df-b991-4797-8662-bd6be4b2448b",
   "metadata": {},
   "outputs": [],
   "source": [
    "import cv2\n",
    "from datetime import timedelta\n",
    "import numpy as np\n",
    "import pandas as pd\n",
    "from pathlib import Path\n",
    "from tqdm import tqdm\n",
    "\n",
    "import planetary_computer as pc\n",
    "from pystac_client import Client\n",
    "import geopy.distance as distance\n",
    "import rioxarray\n",
    "\n",
    "import json\n",
    "\n",
    "%matplotlib inline"
   ]
  },
  {
   "cell_type": "markdown",
   "id": "448f66ac-05a9-423c-9dfb-8d5307df06d6",
   "metadata": {
    "tags": []
   },
   "source": [
    "## Definición de parámetros"
   ]
  },
  {
   "cell_type": "code",
   "execution_count": null,
   "id": "8e3b0be4-6cdd-48a0-b98c-786771bfe478",
   "metadata": {},
   "outputs": [],
   "source": [
    "# Directorios de donde se leerá y almacenará la información\n",
    "DATA_DIR = Path.cwd().resolve() / \"data\"\n",
    "SENTINEL_DATA_DIR = DATA_DIR / \"sentinel\"\n",
    "\n",
    "# Máximo de días hacia atrás donde se permite descargar la imagen, respecto a la fecha de la medición in situ\n",
    "TIME_BUFFER_DAYS = 15\n",
    "\n",
    "# Tamaño del detalle de la imagen (se aplica a cada dirección cardinal)\n",
    "METER_BUFFER = 200"
   ]
  },
  {
   "cell_type": "markdown",
   "id": "49e7e64a-6d50-4fa0-93b7-516bf54fb6f6",
   "metadata": {
    "tags": []
   },
   "source": [
    "## Metadata in situ"
   ]
  },
  {
   "cell_type": "code",
   "execution_count": null,
   "id": "baee3c72-74ed-471c-8337-d71ba0fb7810",
   "metadata": {},
   "outputs": [],
   "source": [
    "metadata = pd.read_csv(DATA_DIR / \"metadata.csv\")"
   ]
  },
  {
   "cell_type": "code",
   "execution_count": null,
   "id": "68c0a070-c852-427d-9d5c-ea965a2912e0",
   "metadata": {},
   "outputs": [],
   "source": [
    "# Se convierte la variable fecha al tipo datetime\n",
    "metadata.date = pd.to_datetime(metadata.date)"
   ]
  },
  {
   "cell_type": "markdown",
   "id": "0030684f-5363-4963-a806-30cc113fed77",
   "metadata": {
    "tags": []
   },
   "source": [
    "## Funciones"
   ]
  },
  {
   "cell_type": "code",
   "execution_count": null,
   "id": "87474dbc-e397-4ff6-b780-028a0b121ae2",
   "metadata": {},
   "outputs": [],
   "source": [
    "def get_bounding_box(latitude, longitude, meter_buffer=50000):\n",
    "    \"\"\"\n",
    "    Dada una latitud, longitud y buffer en metros, devuelve una superficie rectangular alrededor de las coordenadas proporcionadas en\n",
    "    cada una de las direcciones cardinales\n",
    "\n",
    "    Devuelve una lista de [minx, miny, maxx, maxy]\n",
    "    \"\"\"\n",
    "    distance_search = distance.distance(meters=meter_buffer)\n",
    "\n",
    "    # calcula la lat/long basada en la distancia en tierra\n",
    "    # cada orientación corresponde a una dirección cardinal (sur, oeste, norte, y este)\n",
    "    min_lat = distance_search.destination((latitude, longitude), bearing=180)[0]\n",
    "    min_long = distance_search.destination((latitude, longitude), bearing=270)[1]\n",
    "    max_lat = distance_search.destination((latitude, longitude), bearing=0)[0]\n",
    "    max_long = distance_search.destination((latitude, longitude), bearing=90)[1]\n",
    "\n",
    "    return [min_long, min_lat, max_long, max_lat]"
   ]
  },
  {
   "cell_type": "code",
   "execution_count": null,
   "id": "4881cb75-1f07-44a6-8a2e-cd05a4831b50",
   "metadata": {},
   "outputs": [],
   "source": [
    "# get our date range to search, and format correctly for query\n",
    "def get_date_range(date, time_buffer_days=TIME_BUFFER_DAYS):\n",
    "    \"\"\"\n",
    "    Obtiene el rango de fechas con las que se busca en PC a partir de la fecha de medición y el límite de días atras establecido\n",
    "\n",
    "    Devuelve un string con el rango\n",
    "    \"\"\"\n",
    "    datetime_format = \"%Y-%m-%dT\"\n",
    "    range_start = pd.to_datetime(date) - timedelta(days=time_buffer_days)\n",
    "    date_range = f\"{range_start.strftime(datetime_format)}00:00:00Z/{pd.to_datetime(date).strftime(datetime_format)}23:59:59Z\"\n",
    "\n",
    "    return date_range"
   ]
  },
  {
   "cell_type": "code",
   "execution_count": null,
   "id": "a26ba16f-6b34-43f4-b96b-863d7a48d75e",
   "metadata": {},
   "outputs": [],
   "source": [
    "def crop_sentinel_image(item, bounding_box):\n",
    "    \"\"\"\n",
    "    Dado un STAC ítem de Sentinel y la bbox en formato tupla (minx, miny, maxx, maxy), devuelve un recorte de la imagen\n",
    "\n",
    "    Devuelve las imágenes como un vector numpy con dimensiones [(3,Px,Py), (1,Px,Py), (1,Px,Py), (1,Px,Py), (1,Px,Py)], \n",
    "    siendo Px y Py los píxeles en cada dirección del plano\n",
    "    \"\"\"\n",
    "    (minx, miny, maxx, maxy) = bounding_box\n",
    "\n",
    "    # true color image (TCI). 10 m de resolución\n",
    "    visual_img = (\n",
    "        rioxarray.open_rasterio(pc.sign(item.assets[\"visual\"].href))\n",
    "        .rio.clip_box(\n",
    "            minx=minx,\n",
    "            miny=miny,\n",
    "            maxx=maxx,\n",
    "            maxy=maxy,\n",
    "            crs=\"EPSG:4326\",\n",
    "        )\n",
    "        .to_numpy()\n",
    "    )\n",
    "\n",
    "    # scene classification image (SCL). 20 m de resolución\n",
    "    SCL_img = (\n",
    "        rioxarray.open_rasterio(pc.sign(item.assets[\"SCL\"].href))\n",
    "        .rio.clip_box(\n",
    "            minx=minx,\n",
    "            miny=miny,\n",
    "            maxx=maxx,\n",
    "            maxy=maxy,\n",
    "            crs=\"EPSG:4326\",\n",
    "        )\n",
    "        .to_numpy()\n",
    "    )\n",
    "    # 560 nm band. 10 m de resolución\n",
    "    b03_img = (\n",
    "        rioxarray.open_rasterio(pc.sign(item.assets[\"B03\"].href))\n",
    "        .rio.clip_box(\n",
    "            minx=minx,\n",
    "            miny=miny,\n",
    "            maxx=maxx,\n",
    "            maxy=maxy,\n",
    "            crs=\"EPSG:4326\",\n",
    "        )\n",
    "        .to_numpy()\n",
    "    )\n",
    "    # 665 nm band. 10 m de resolución\n",
    "    b04_img = (\n",
    "        rioxarray.open_rasterio(pc.sign(item.assets[\"B04\"].href))\n",
    "        .rio.clip_box(\n",
    "            minx=minx,\n",
    "            miny=miny,\n",
    "            maxx=maxx,\n",
    "            maxy=maxy,\n",
    "            crs=\"EPSG:4326\",\n",
    "        )\n",
    "        .to_numpy()\n",
    "    )\n",
    "    # 704 nm band. 20 m de resolución\n",
    "    b05_img = (\n",
    "        rioxarray.open_rasterio(pc.sign(item.assets[\"B05\"].href))\n",
    "        .rio.clip_box(\n",
    "            minx=minx,\n",
    "            miny=miny,\n",
    "            maxx=maxx,\n",
    "            maxy=maxy,\n",
    "            crs=\"EPSG:4326\",\n",
    "        )\n",
    "        .to_numpy()\n",
    "    )\n",
    "\n",
    "\n",
    "    return [visual_img, b03_img, b04_img, b05_img, SCL_img]"
   ]
  },
  {
   "cell_type": "code",
   "execution_count": null,
   "id": "d8a7de67-2c74-4a34-af36-b8a1f84be279",
   "metadata": {},
   "outputs": [],
   "source": [
    "def select_item_list(items, date, latitude, longitude):\n",
    "    \"\"\"\n",
    "    Devuelve una lista con los ítems válidos:\n",
    "    - Debe contener la coordenada de medición\n",
    "    - Se encuentra dentro del rango temporal definido\n",
    "\n",
    "    Devuelve una estructura dataframe ordenada por la diferencia temporal con respecto a la fecha de medición (de menor a mayor),\n",
    "    con los detalles de los ítems\n",
    "    \"\"\"\n",
    "    # Obtención de los atributos de los ítems\n",
    "    item_details = pd.DataFrame(\n",
    "        [\n",
    "            {\n",
    "                \"datetime\": item.datetime.strftime(\"%Y-%m-%d\"),\n",
    "                \"platform\": item.properties[\"platform\"],\n",
    "                \"min_long\": item.bbox[0],\n",
    "                \"max_long\": item.bbox[2],\n",
    "                \"min_lat\": item.bbox[1],\n",
    "                \"max_lat\": item.bbox[3],\n",
    "                \"item_obj\": item,\n",
    "                \"cloud_cover\": item.properties[\"eo:cloud_cover\"],\n",
    "            }\n",
    "            for item in items\n",
    "        ]\n",
    "    )\n",
    "\n",
    "    # filtrado de los puntos que contienen la localización de la medición\n",
    "    item_details[\"contains_sample_point\"] = (\n",
    "        (item_details.min_lat < latitude)\n",
    "        & (item_details.max_lat > latitude)\n",
    "        & (item_details.min_long < longitude)\n",
    "        & (item_details.max_long > longitude)\n",
    "    )\n",
    "    item_details = item_details[item_details[\"contains_sample_point\"] == True]\n",
    "    if len(item_details) == 0:\n",
    "        return (np.nan, np.nan, np.nan)\n",
    "\n",
    "    # Se añade la diferencia temporal como atributo al df\n",
    "    item_details[\"time_diff\"] = pd.to_datetime(date) - pd.to_datetime(\n",
    "        item_details[\"datetime\"]\n",
    "    )\n",
    "\n",
    "    # return the closest imagery by time\n",
    "    return item_details.sort_values(by=\"time_diff\", ascending=True)"
   ]
  },
  {
   "cell_type": "code",
   "execution_count": null,
   "id": "1cc1906e-45d1-40f3-afc9-52ad10d170c5",
   "metadata": {},
   "outputs": [],
   "source": [
    "def check_clouds(ordered_items, bounding_box):\n",
    "    \"\"\"\n",
    "    Comprueba que el porcentaje de píxeles nubosos o erróneos sean mayores al 25% de la superficie recortada,\n",
    "    a partir de la lista de ítems y el área de búsqueda\n",
    "\n",
    "    Devuelve el ítem que cumple el criterio de nubosidad y de menor diferencia temporal con la fecha de medición.\n",
    "    \"\"\"\n",
    "    (minx, miny, maxx, maxy) = bounding_box\n",
    "    best_item = None\n",
    "\n",
    "    for i in range(len(ordered_items)):\n",
    "        cloud_image_array = (\n",
    "            rioxarray.open_rasterio(\n",
    "                pc.sign(ordered_items.iloc[i].item_obj.assets[\"SCL\"].href)\n",
    "            )\n",
    "            .rio.clip_box(\n",
    "                minx=minx,\n",
    "                miny=miny,\n",
    "                maxx=maxx,\n",
    "                maxy=maxy,\n",
    "                crs=\"EPSG:4326\",\n",
    "            )\n",
    "            .to_numpy()\n",
    "        )\n",
    "        \n",
    "        ## DECODIFICACION SCL SENTINEL - 2\n",
    "        # 0 - No data\n",
    "        # 1 - Saturated / Defective\n",
    "        # 2 - Dark Area Pixels\n",
    "        # 3 - Cloud Shadows\n",
    "        # 4 - Vegetation\n",
    "        # 5 - Bare Soils\n",
    "        # 6 - Water\n",
    "        # 7 - Clouds low probability / Unclassified\n",
    "        # 8 - Clouds medium probability\n",
    "        # 9 - Clouds high probability\n",
    "        # 10 - Cirrus\n",
    "        # 11 - Snow / Ice\n",
    "\n",
    "        if np.size(\n",
    "            cloud_image_array[\n",
    "                (cloud_image_array != 0)\n",
    "                & (cloud_image_array != 1)\n",
    "                & (cloud_image_array != 2)\n",
    "                & (cloud_image_array != 3)\n",
    "                & (cloud_image_array != 8)\n",
    "                & (cloud_image_array != 9)\n",
    "                & (cloud_image_array != 10)\n",
    "            ]\n",
    "        ) >= 0.25 * np.size(cloud_image_array):\n",
    "            best_item = ordered_items.iloc[i]\n",
    "            break\n",
    "\n",
    "    return best_item"
   ]
  },
  {
   "cell_type": "markdown",
   "id": "7af67809-0ba4-48db-8915-edf16dd91380",
   "metadata": {
    "tags": []
   },
   "source": [
    "## Extracción de las imágenes"
   ]
  },
  {
   "cell_type": "code",
   "execution_count": null,
   "id": "419e1350-18b5-4059-b6fc-924673115b6b",
   "metadata": {},
   "outputs": [],
   "source": [
    "# Establece la conexión con el STAC API\n",
    "catalog = Client.open(\n",
    "    \"https://planetarycomputer.microsoft.com/api/stac/v1\", modifier=pc.sign_inplace\n",
    ")"
   ]
  },
  {
   "cell_type": "code",
   "execution_count": null,
   "id": "34784456-6d38-44ed-b5b6-4e916febe00b",
   "metadata": {},
   "outputs": [],
   "source": [
    "data_subset = metadata"
   ]
  },
  {
   "cell_type": "markdown",
   "id": "e293f1d5-2bc8-4c64-908b-ffa58c38f3e1",
   "metadata": {},
   "source": [
    "La siguiente celda conviene ejecutarla más de una vez en caso de que el pull falle por la conexión con la API"
   ]
  },
  {
   "cell_type": "code",
   "execution_count": null,
   "id": "62a33131-9301-4a04-97f7-29451fee4a8f",
   "metadata": {
    "scrolled": true,
    "tags": []
   },
   "outputs": [],
   "source": [
    "# save outputs in dictionaries\n",
    "selected_items = {} # mantiene un registro de los items seleccionados\n",
    "not_possible = [] # mantiene un registro de aquellos ítems no disponibles\n",
    "errored_ids = [] # mantiene un registro de aquellos ítems que han fallado durante la descarga\n",
    "\n",
    "for row in tqdm(data_subset.itertuples(), total=len(data_subset)):\n",
    "    pass\n",
    "    image_array_pth = SENTINEL_DATA_DIR / f\"visual/{row.uid}.npy\"\n",
    "    \n",
    "    # se comprueba que el item no exista ya en el directorio\n",
    "    try:\n",
    "        with open(image_array_pth, \"rb\") as f:\n",
    "            continue\n",
    "\n",
    "    except:\n",
    "        try:\n",
    "            ## QUERY STAC API\n",
    "            search_bbox = get_bounding_box(\n",
    "                row.latitude, row.longitude, meter_buffer=50000\n",
    "            )\n",
    "            date_range = get_date_range(row.date, time_buffer_days=15)\n",
    "\n",
    "            # se busca en el catálogo de planetary computer\n",
    "            search = catalog.search(\n",
    "                collections=[\"sentinel-2-l2a\"],\n",
    "                bbox=search_bbox,\n",
    "                datetime=date_range,\n",
    "                query={\n",
    "                    \"platform\": {\n",
    "                        \"in\": [\n",
    "                            \"Sentinel-2A\",\n",
    "                            \"Sentinel-2B\",\n",
    "                        ]\n",
    "                    }\n",
    "                },\n",
    "            )\n",
    "            items = [item for item in search.get_all_items()]\n",
    "\n",
    "            # Se comprueba que hayan ítems y se ordenan según la diferencia de fechas. Se descartan aquellos ítems que no contienen\n",
    "            # el lugar de la medición\n",
    "            if len(items) == 0:\n",
    "                not_possible.append(row.uid)\n",
    "                pass\n",
    "            else:\n",
    "                ordered_items = select_item_list(\n",
    "                    items, row.date, row.latitude, row.longitude\n",
    "                )\n",
    "\n",
    "            # Creación de la superficie del detalle\n",
    "            feature_bbox = get_bounding_box(\n",
    "                row.latitude, row.longitude, meter_buffer=200\n",
    "            )\n",
    "\n",
    "            # Comprobación nubosidad\n",
    "            best_item = check_clouds(ordered_items, feature_bbox)\n",
    "            if best_item is None:\n",
    "                not_possible.append(row.uid)\n",
    "                continue\n",
    "\n",
    "            # Registro de los ítems seleccionados\n",
    "            selected_items[row.uid] = {\n",
    "                \"item_object\": str(best_item[\"item_obj\"]),\n",
    "                \"item_platform\": best_item[\"platform\"],\n",
    "                \"item_date\": best_item[\"datetime\"],\n",
    "                \"cloud_properties\": best_item[\"cloud_cover\"],\n",
    "                \"time_diff\": str(best_item[\"time_diff\"]),\n",
    "            }\n",
    "\n",
    "            # Obtención de las imagenes recortadas\n",
    "            [\n",
    "                image_array,\n",
    "                b03_image_array,\n",
    "                b04_image_array,\n",
    "                b05_image_array,\n",
    "                scl_image_array,\n",
    "            ] = crop_sentinel_image(best_item[\"item_obj\"], feature_bbox)\n",
    "\n",
    "            # Almacenamiento\n",
    "            with open(SENTINEL_DATA_DIR / f\"visual/{row.uid}.npy\", \"wb\") as f:\n",
    "                np.save(f, image_array)\n",
    "            with open(SENTINEL_DATA_DIR / f\"b03/{row.uid}.npy\", \"wb\") as f:\n",
    "                np.save(f, b03_image_array)\n",
    "            with open(SENTINEL_DATA_DIR / f\"b04/{row.uid}.npy\", \"wb\") as f:\n",
    "                np.save(f, b04_image_array)\n",
    "            with open(SENTINEL_DATA_DIR / f\"b05/{row.uid}.npy\", \"wb\") as f:\n",
    "                np.save(f, b05_image_array)\n",
    "            with open(SENTINEL_DATA_DIR / f\"scl/{row.uid}.npy\", \"wb\") as f:\n",
    "                np.save(f, scl_image_array)\n",
    "\n",
    "        # Registro de los elementos que han dado error\n",
    "        except Exception as e:\n",
    "            errored_ids.append(row.uid)"
   ]
  },
  {
   "cell_type": "code",
   "execution_count": null,
   "id": "6067ec23-0778-49be-a779-2338ef0a9b65",
   "metadata": {},
   "outputs": [],
   "source": [
    "with open(SENTINEL_DATA_DIR / \"selected_items.txt\", \"w\") as f:\n",
    "    json.dump(selected_items, f)"
   ]
  },
  {
   "cell_type": "code",
   "execution_count": null,
   "id": "1b4f138b-f16e-4539-aade-3a004d4b4a8d",
   "metadata": {},
   "outputs": [],
   "source": [
    "print(f\"No se puedo obtener imágenes para {len(errored_ids)} elementos debido a errores\")"
   ]
  },
  {
   "cell_type": "code",
   "execution_count": null,
   "id": "c0c103a3-41ca-4a7e-b08a-93a05e0c3ece",
   "metadata": {},
   "outputs": [],
   "source": [
    "print(f\"No se puedo obtener imágenes para {len(not_possible)} elementos\")"
   ]
  },
  {
   "cell_type": "markdown",
   "id": "a42774ce-0800-4d41-a6bd-7c4f8966d7dd",
   "metadata": {},
   "source": [
    "## Referencias"
   ]
  },
  {
   "cell_type": "markdown",
   "id": "5ef37f3a-1e6e-4b7c-a02a-e76cd085e73e",
   "metadata": {},
   "source": [
    "[1] Microsoft. Microsoft Planetary Computer.Reading Data from the STAC API: https://planetarycomputer.microsoft.com/docs/quickstarts/reading-stac/\n",
    "\n",
    "[2] Corteva Agriscience. Corteva Agriscience: https://corteva.github.io/rioxarray/html/rioxarray.html\n",
    "\n",
    "[3] Driven Data. Tick Tick Bloom: Harmful Algal Bloom Detection Challenge: https://www.drivendata.org/competitions/143/tick-tick-bloom/page/650/\n"
   ]
  }
 ],
 "metadata": {
  "kernelspec": {
   "display_name": "Python 3 (ipykernel)",
   "language": "python",
   "name": "python3"
  },
  "language_info": {
   "codemirror_mode": {
    "name": "ipython",
    "version": 3
   },
   "file_extension": ".py",
   "mimetype": "text/x-python",
   "name": "python",
   "nbconvert_exporter": "python",
   "pygments_lexer": "ipython3",
   "version": "3.11.2"
  }
 },
 "nbformat": 4,
 "nbformat_minor": 5
}
