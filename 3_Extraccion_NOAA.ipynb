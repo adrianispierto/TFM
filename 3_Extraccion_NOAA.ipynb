{
 "cells": [
  {
   "cell_type": "markdown",
   "id": "39b77cad-c17a-4d96-b861-5d3e732fafdc",
   "metadata": {},
   "source": [
    "# HRRR NOAA Temperature data"
   ]
  },
  {
   "cell_type": "markdown",
   "id": "6a299644-2b86-48f3-8957-7e17aa972791",
   "metadata": {},
   "source": [
    "EL siguiente código emplea el paquete [*Herbie*](https://herbie.readthedocs.io/en/stable/) para descargar la temperatura obtenida a partir del satélite [NOAH HRRR](https://rapidrefresh.noaa.gov/hrrr/). Solo para complementar la información de los datos descargados de Sentinel-2"
   ]
  },
  {
   "cell_type": "markdown",
   "id": "6810c325-54de-4c9f-ba1a-282d7709c978",
   "metadata": {},
   "source": [
    "## Imports"
   ]
  },
  {
   "cell_type": "code",
   "execution_count": null,
   "id": "f3187ad1-bf8b-45b7-b69b-02a7db9cc90f",
   "metadata": {},
   "outputs": [],
   "source": [
    "from herbie import Herbie\n",
    "\n",
    "from pathlib import Path\n",
    "import pandas as pd\n",
    "import geopy.distance as distance\n",
    "from tqdm import tqdm\n",
    "import json"
   ]
  },
  {
   "cell_type": "markdown",
   "id": "85aaa1ad-b48d-43b6-82bd-2b0f39c6f700",
   "metadata": {},
   "source": [
    "## Parámetros"
   ]
  },
  {
   "cell_type": "code",
   "execution_count": null,
   "id": "f78d1df5-303e-4000-9673-bfa2d78c9ba5",
   "metadata": {},
   "outputs": [],
   "source": [
    "DATA_DIR = Path.cwd().resolve() / \"data\"\n",
    "SENTINEL_DATA_DIR = DATA_DIR / \"sentinel\""
   ]
  },
  {
   "cell_type": "markdown",
   "id": "f219fd4b-5e45-4333-a52a-bc27720bd842",
   "metadata": {},
   "source": [
    "## Funciones"
   ]
  },
  {
   "cell_type": "code",
   "execution_count": null,
   "id": "078c84b8-a9af-4688-b0d6-4b96d94934a9",
   "metadata": {},
   "outputs": [],
   "source": [
    "def get_bounding_box(latitude, longitude, meter_buffer=50000):\n",
    "    \"\"\"\n",
    "    Dada una latitud, longitud y buffer en metros, devuelve una superficie rectangular alrededor de las coordenadas proporcionadas en\n",
    "    cada una de las direcciones cardinales\n",
    "\n",
    "    Devuelve una lista de [minx, miny, maxx, maxy]\n",
    "    \"\"\"\n",
    "    distance_search = distance.distance(meters=meter_buffer)\n",
    "\n",
    "    # calcula la lat/long basada en la distancia en tierra\n",
    "    # cada orientación corresponde a una dirección cardinal (sur, oeste, norte, y este)\n",
    "    min_lat = distance_search.destination((latitude, longitude), bearing=180)[0]\n",
    "    min_long = distance_search.destination((latitude, longitude), bearing=270)[1]\n",
    "    max_lat = distance_search.destination((latitude, longitude), bearing=0)[0]\n",
    "    max_long = distance_search.destination((latitude, longitude), bearing=90)[1]\n",
    "\n",
    "    return [min_long, min_lat, max_long, max_lat]"
   ]
  },
  {
   "cell_type": "markdown",
   "id": "2f5575d8-cada-4e00-bb5d-a5e1e462ebbb",
   "metadata": {},
   "source": [
    "## Extracción"
   ]
  },
  {
   "cell_type": "code",
   "execution_count": null,
   "id": "9df4a22e-f4fb-4222-b73f-945e8a7e0055",
   "metadata": {},
   "outputs": [],
   "source": [
    "metadata = pd.read_csv(DATA_DIR / \"metadata.csv\")"
   ]
  },
  {
   "cell_type": "code",
   "execution_count": null,
   "id": "7cd03ec8-1905-424c-8fb0-6773a3e9ab01",
   "metadata": {},
   "outputs": [],
   "source": [
    "sentinel_data = json.load(open(SENTINEL_DATA_DIR / \"selected_items.txt\"))"
   ]
  },
  {
   "cell_type": "code",
   "execution_count": null,
   "id": "e54f96ca-16bd-431f-9f81-99b59bbad87d",
   "metadata": {},
   "outputs": [],
   "source": [
    "train_subset = metadata[metadata.uid.isin(sentinel_data.keys())]"
   ]
  },
  {
   "cell_type": "code",
   "execution_count": null,
   "id": "b832faa1-58ee-4c59-a28a-98999ee08974",
   "metadata": {
    "scrolled": true,
    "tags": []
   },
   "outputs": [],
   "source": [
    "temp_dict = {} # Registra las temperaturas medias calculadas\n",
    "\n",
    "# Constantes para crear la URL completa\n",
    "forecast_hour = 0   # Offset del ciclo temporal\n",
    "product = 'sfc' # Superficie 2D\n",
    "\n",
    "i=0 # Contador\n",
    "\n",
    "for row in tqdm(train_subset.itertuples(), total=len(train_subset)):\n",
    "    pass\n",
    "    # Se comprueba que no existe el elemento ( en caso de cargar un archivo con temperaturas de ejecuciones anteriores)\n",
    "    if temp_dict.get(row.uid) == None:\n",
    "        date = row.date\n",
    "        \n",
    "        # recorte de 2000 m alrededor de las coordenadas de medición\n",
    "        [min_long, min_lat, max_long, max_lat] = get_bounding_box(row.latitude, row.longitude, 2000)\n",
    "        try:\n",
    "            H = Herbie(\n",
    "                date,  # fecha\n",
    "                model=\"hrrr\",  # nombre del modelo\n",
    "                product=product,  # nombre del producto del modelo\n",
    "                fxx=forecast_hour,  # forecast\n",
    "            )\n",
    "            ds = H.xarray(\":TMP:surface\", remove_grib=True) # Lee la temperatura en la superficie\n",
    "            \n",
    "            # Cálculo de la temperatura media dentro del recorte y almacenamiento\n",
    "            temp_dict[row.uid] = float(ds.t.where(ds.latitude >= min_lat).where(ds.latitude <= max_lat).where(ds.longitude <= max_long+360).where(ds.longitude >= min_long+360).mean(skipna=True).values)\n",
    "        except:\n",
    "            # Se asigna menos 1 a las temperaturas que no se han podido descargar\n",
    "            temp_dict[row.uid] = -1\n",
    "        \n",
    "        # Copia de seguridad cada 100 iteraciones\n",
    "        if i % 100 == 0 and i >= 100:\n",
    "            with open(SENTINEL_DATA_DIR / \"temperatures.txt\", \"w\") as f:\n",
    "                json.dump(temp_dict, f)\n",
    "        i += 1\n"
   ]
  },
  {
   "cell_type": "markdown",
   "id": "9b8e84ff-2d7c-418d-80bd-a79f6f00fca1",
   "metadata": {},
   "source": [
    "## Referencias"
   ]
  },
  {
   "cell_type": "markdown",
   "id": "eb3c8186-d134-4d2f-af8d-73e005c8c9b6",
   "metadata": {},
   "source": [
    "[1] Brian K. Blaylock. Herbie: Retrieve NWP Model Data: https://herbie.readthedocs.io/en/stable/\n",
    "\n",
    "[2] Global Systems Laboratory. The High-Resolution Rapid Refresh (HRRR): https://rapidrefresh.noaa.gov/hrrr/"
   ]
  }
 ],
 "metadata": {
  "kernelspec": {
   "display_name": "Python 3 (ipykernel)",
   "language": "python",
   "name": "python3"
  },
  "language_info": {
   "codemirror_mode": {
    "name": "ipython",
    "version": 3
   },
   "file_extension": ".py",
   "mimetype": "text/x-python",
   "name": "python",
   "nbconvert_exporter": "python",
   "pygments_lexer": "ipython3",
   "version": "3.11.2"
  }
 },
 "nbformat": 4,
 "nbformat_minor": 5
}
